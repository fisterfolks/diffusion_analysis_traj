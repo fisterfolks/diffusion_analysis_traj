{
 "cells": [
  {
   "cell_type": "code",
   "execution_count": 1,
   "metadata": {},
   "outputs": [],
   "source": [
    "from tensorflow.keras.models import Model, Sequential\n",
    "from tensorflow.keras.layers import Dense, Activation, LSTM, GRU, Dropout, Input\n",
    "from tensorflow.keras.optimizers import SGD, Adam\n",
    "import numpy as np \n",
    "import matplotlib.pyplot as plt\n",
    "import pandas as pd\n",
    "%matplotlib inline\n",
    "\n",
    "import tensorflow as tf\n",
    "import json\n",
    "\n",
    "from sklearn.model_selection import train_test_split"
   ]
  },
  {
   "cell_type": "code",
   "execution_count": 2,
   "metadata": {},
   "outputs": [],
   "source": [
    "fname = 'C:\\\\Users\\\\arsayder\\\\PycharmProjects\\\\diff_masters\\\\brownian_motion\\\\2020-11-25200530135111.txt'\n",
    "a = np.loadtxt(fname)"
   ]
  },
  {
   "cell_type": "code",
   "execution_count": 3,
   "metadata": {},
   "outputs": [
    {
     "data": {
      "text/plain": [
       "array([ 0.        , -0.00225054, -0.00441378, ...,  1.0697953 ,\n",
       "        1.06885435,  1.0683058 ])"
      ]
     },
     "execution_count": 3,
     "metadata": {},
     "output_type": "execute_result"
    }
   ],
   "source": [
    "a"
   ]
  },
  {
   "cell_type": "code",
   "execution_count": 4,
   "metadata": {},
   "outputs": [],
   "source": [
    "a = a.reshape(-1, 1)"
   ]
  },
  {
   "cell_type": "code",
   "execution_count": 5,
   "metadata": {},
   "outputs": [],
   "source": [
    "from sklearn.preprocessing import MinMaxScaler\n",
    "sc = MinMaxScaler(feature_range=(0,1))\n",
    "training_set_scaled = sc.fit_transform(a)"
   ]
  },
  {
   "cell_type": "code",
   "execution_count": 6,
   "metadata": {},
   "outputs": [
    {
     "data": {
      "text/plain": [
       "(5000, 1)"
      ]
     },
     "execution_count": 6,
     "metadata": {},
     "output_type": "execute_result"
    }
   ],
   "source": [
    "training_set_scaled.shape"
   ]
  },
  {
   "cell_type": "code",
   "execution_count": 7,
   "metadata": {},
   "outputs": [],
   "source": [
    "X_train = []\n",
    "y_train = []\n",
    "for i in range(100, 5000):\n",
    "    X_train.append(training_set_scaled[i-100:i, 0])\n",
    "    y_train.append(training_set_scaled[i, 0])\n",
    "X_train, y_train = np.array(X_train), np.array(y_train)\n",
    "\n",
    "X_train = np.reshape(X_train, (X_train.shape[0], X_train.shape[1], 1))"
   ]
  },
  {
   "cell_type": "code",
   "execution_count": 8,
   "metadata": {},
   "outputs": [],
   "source": [
    "model = Sequential()\n",
    "\n",
    "model.add(LSTM(units=50,return_sequences=True,input_shape=(X_train.shape[1], 1)))\n",
    "model.add(Dropout(0.2))\n",
    "\n",
    "model.add(LSTM(units=50,return_sequences=True))\n",
    "model.add(Dropout(0.2))\n",
    "\n",
    "model.add(LSTM(units=50,return_sequences=True))\n",
    "model.add(Dropout(0.2))\n",
    "\n",
    "model.add(LSTM(units=50))\n",
    "model.add(Dropout(0.2))\n",
    "\n",
    "model.add(Dense(units=1))\n",
    "\n",
    "model.compile(optimizer='adam',loss='mean_squared_error')\n"
   ]
  },
  {
   "cell_type": "code",
   "execution_count": 9,
   "metadata": {},
   "outputs": [
    {
     "name": "stdout",
     "output_type": "stream",
     "text": [
      "Model: \"sequential\"\n",
      "_________________________________________________________________\n",
      "Layer (type)                 Output Shape              Param #   \n",
      "=================================================================\n",
      "lstm (LSTM)                  (None, 100, 50)           10400     \n",
      "_________________________________________________________________\n",
      "dropout (Dropout)            (None, 100, 50)           0         \n",
      "_________________________________________________________________\n",
      "lstm_1 (LSTM)                (None, 100, 50)           20200     \n",
      "_________________________________________________________________\n",
      "dropout_1 (Dropout)          (None, 100, 50)           0         \n",
      "_________________________________________________________________\n",
      "lstm_2 (LSTM)                (None, 100, 50)           20200     \n",
      "_________________________________________________________________\n",
      "dropout_2 (Dropout)          (None, 100, 50)           0         \n",
      "_________________________________________________________________\n",
      "lstm_3 (LSTM)                (None, 50)                20200     \n",
      "_________________________________________________________________\n",
      "dropout_3 (Dropout)          (None, 50)                0         \n",
      "_________________________________________________________________\n",
      "dense (Dense)                (None, 1)                 51        \n",
      "=================================================================\n",
      "Total params: 71,051\n",
      "Trainable params: 71,051\n",
      "Non-trainable params: 0\n",
      "_________________________________________________________________\n"
     ]
    }
   ],
   "source": [
    "model.summary()"
   ]
  },
  {
   "cell_type": "code",
   "execution_count": 10,
   "metadata": {},
   "outputs": [
    {
     "data": {
      "text/plain": [
       "(4900, 100, 1)"
      ]
     },
     "execution_count": 10,
     "metadata": {},
     "output_type": "execute_result"
    }
   ],
   "source": [
    "X_train.shape"
   ]
  },
  {
   "cell_type": "code",
   "execution_count": 11,
   "metadata": {},
   "outputs": [
    {
     "data": {
      "text/plain": [
       "(4900,)"
      ]
     },
     "execution_count": 11,
     "metadata": {},
     "output_type": "execute_result"
    }
   ],
   "source": [
    "y_train.shape"
   ]
  },
  {
   "cell_type": "code",
   "execution_count": 12,
   "metadata": {},
   "outputs": [
    {
     "data": {
      "text/plain": [
       "array([0.0385062 , 0.03864199, 0.03770994, ..., 0.91785926, 0.9171117 ,\n",
       "       0.91667588])"
      ]
     },
     "execution_count": 12,
     "metadata": {},
     "output_type": "execute_result"
    }
   ],
   "source": [
    "y_train"
   ]
  },
  {
   "cell_type": "code",
   "execution_count": 13,
   "metadata": {},
   "outputs": [
    {
     "name": "stdout",
     "output_type": "stream",
     "text": [
      "Epoch 1/100\n",
      "154/154 [==============================] - 7s 17ms/step - loss: 0.0346\n",
      "Epoch 2/100\n",
      "154/154 [==============================] - 3s 17ms/step - loss: 0.0033\n",
      "Epoch 3/100\n",
      "154/154 [==============================] - 3s 17ms/step - loss: 0.0029\n",
      "Epoch 4/100\n",
      "154/154 [==============================] - 3s 17ms/step - loss: 0.0027\n",
      "Epoch 5/100\n",
      "154/154 [==============================] - 3s 17ms/step - loss: 0.0025\n",
      "Epoch 6/100\n",
      "154/154 [==============================] - 3s 17ms/step - loss: 0.0023\n",
      "Epoch 7/100\n",
      "154/154 [==============================] - 3s 17ms/step - loss: 0.0028\n",
      "Epoch 8/100\n",
      "154/154 [==============================] - 3s 17ms/step - loss: 0.0021\n",
      "Epoch 9/100\n",
      "154/154 [==============================] - 3s 17ms/step - loss: 0.0020\n",
      "Epoch 10/100\n",
      "154/154 [==============================] - 3s 17ms/step - loss: 0.0024\n",
      "Epoch 11/100\n",
      "154/154 [==============================] - 3s 17ms/step - loss: 0.0017\n",
      "Epoch 12/100\n",
      "154/154 [==============================] - 3s 17ms/step - loss: 0.0018\n",
      "Epoch 13/100\n",
      "154/154 [==============================] - 3s 17ms/step - loss: 0.0018\n",
      "Epoch 14/100\n",
      "154/154 [==============================] - 3s 17ms/step - loss: 0.0020\n",
      "Epoch 15/100\n",
      "154/154 [==============================] - 3s 17ms/step - loss: 0.0015\n",
      "Epoch 16/100\n",
      "154/154 [==============================] - 3s 17ms/step - loss: 0.0015\n",
      "Epoch 17/100\n",
      "154/154 [==============================] - 3s 17ms/step - loss: 0.0017\n",
      "Epoch 18/100\n",
      "154/154 [==============================] - 3s 17ms/step - loss: 0.0015\n",
      "Epoch 19/100\n",
      "154/154 [==============================] - 3s 17ms/step - loss: 0.0014\n",
      "Epoch 20/100\n",
      "154/154 [==============================] - 3s 17ms/step - loss: 0.0014\n",
      "Epoch 21/100\n",
      "154/154 [==============================] - 3s 17ms/step - loss: 0.0013\n",
      "Epoch 22/100\n",
      "154/154 [==============================] - 3s 17ms/step - loss: 0.0014\n",
      "Epoch 23/100\n",
      "154/154 [==============================] - 3s 17ms/step - loss: 0.0013\n",
      "Epoch 24/100\n",
      "154/154 [==============================] - 3s 17ms/step - loss: 0.0014\n",
      "Epoch 25/100\n",
      "154/154 [==============================] - 3s 17ms/step - loss: 0.0013\n",
      "Epoch 26/100\n",
      "154/154 [==============================] - 3s 17ms/step - loss: 0.0011\n",
      "Epoch 27/100\n",
      "154/154 [==============================] - 3s 17ms/step - loss: 0.0012\n",
      "Epoch 28/100\n",
      "154/154 [==============================] - 3s 17ms/step - loss: 0.0012\n",
      "Epoch 29/100\n",
      "154/154 [==============================] - 3s 17ms/step - loss: 0.0015\n",
      "Epoch 30/100\n",
      "154/154 [==============================] - 3s 17ms/step - loss: 0.0011\n",
      "Epoch 31/100\n",
      "154/154 [==============================] - 3s 17ms/step - loss: 9.6936e-04\n",
      "Epoch 32/100\n",
      "154/154 [==============================] - 3s 17ms/step - loss: 0.0013\n",
      "Epoch 33/100\n",
      "154/154 [==============================] - 3s 17ms/step - loss: 0.0011\n",
      "Epoch 34/100\n",
      "154/154 [==============================] - 3s 17ms/step - loss: 0.0010\n",
      "Epoch 35/100\n",
      "154/154 [==============================] - 3s 17ms/step - loss: 9.7485e-04\n",
      "Epoch 36/100\n",
      "154/154 [==============================] - 3s 17ms/step - loss: 0.0011\n",
      "Epoch 37/100\n",
      "154/154 [==============================] - 3s 17ms/step - loss: 9.6880e-04\n",
      "Epoch 38/100\n",
      "154/154 [==============================] - 3s 17ms/step - loss: 0.0010\n",
      "Epoch 39/100\n",
      "154/154 [==============================] - 3s 17ms/step - loss: 0.0010\n",
      "Epoch 40/100\n",
      "154/154 [==============================] - 3s 17ms/step - loss: 9.7167e-04\n",
      "Epoch 41/100\n",
      "154/154 [==============================] - 3s 17ms/step - loss: 0.0011\n",
      "Epoch 42/100\n",
      "154/154 [==============================] - 3s 17ms/step - loss: 9.5832e-04\n",
      "Epoch 43/100\n",
      "154/154 [==============================] - 3s 17ms/step - loss: 0.0010\n",
      "Epoch 44/100\n",
      "154/154 [==============================] - 3s 17ms/step - loss: 9.7727e-04\n",
      "Epoch 45/100\n",
      "154/154 [==============================] - 3s 17ms/step - loss: 0.0010\n",
      "Epoch 46/100\n",
      "154/154 [==============================] - 3s 17ms/step - loss: 0.0011\n",
      "Epoch 47/100\n",
      "154/154 [==============================] - 3s 17ms/step - loss: 9.9537e-04\n",
      "Epoch 48/100\n",
      "154/154 [==============================] - 3s 17ms/step - loss: 9.0876e-04\n",
      "Epoch 49/100\n",
      "154/154 [==============================] - 3s 17ms/step - loss: 9.8856e-04\n",
      "Epoch 50/100\n",
      "154/154 [==============================] - 3s 17ms/step - loss: 9.5710e-04\n",
      "Epoch 51/100\n",
      "154/154 [==============================] - 3s 17ms/step - loss: 0.0010\n",
      "Epoch 52/100\n",
      "154/154 [==============================] - 3s 17ms/step - loss: 9.1742e-04\n",
      "Epoch 53/100\n",
      "154/154 [==============================] - 3s 17ms/step - loss: 9.7002e-04\n",
      "Epoch 54/100\n",
      "154/154 [==============================] - 3s 17ms/step - loss: 8.8604e-04\n",
      "Epoch 55/100\n",
      "154/154 [==============================] - 3s 17ms/step - loss: 0.0012\n",
      "Epoch 56/100\n",
      "154/154 [==============================] - 3s 17ms/step - loss: 8.7486e-04\n",
      "Epoch 57/100\n",
      "154/154 [==============================] - 3s 17ms/step - loss: 0.0011\n",
      "Epoch 58/100\n",
      "154/154 [==============================] - 3s 17ms/step - loss: 9.4061e-04\n",
      "Epoch 59/100\n",
      "154/154 [==============================] - 3s 17ms/step - loss: 8.9843e-04\n",
      "Epoch 60/100\n",
      "154/154 [==============================] - 3s 17ms/step - loss: 8.9880e-04\n",
      "Epoch 61/100\n",
      "154/154 [==============================] - 3s 17ms/step - loss: 0.0010\n",
      "Epoch 62/100\n",
      "154/154 [==============================] - 3s 17ms/step - loss: 9.5625e-04\n",
      "Epoch 63/100\n",
      "154/154 [==============================] - 3s 17ms/step - loss: 8.7125e-04\n",
      "Epoch 64/100\n",
      "154/154 [==============================] - 3s 17ms/step - loss: 9.1813e-04\n",
      "Epoch 65/100\n",
      "154/154 [==============================] - 3s 17ms/step - loss: 9.8077e-04\n",
      "Epoch 66/100\n",
      "154/154 [==============================] - 3s 17ms/step - loss: 9.5206e-04\n",
      "Epoch 67/100\n",
      "154/154 [==============================] - 3s 17ms/step - loss: 9.0997e-04\n",
      "Epoch 68/100\n",
      "154/154 [==============================] - 3s 17ms/step - loss: 0.0010\n",
      "Epoch 69/100\n",
      "154/154 [==============================] - 3s 17ms/step - loss: 9.4502e-04\n",
      "Epoch 70/100\n",
      "154/154 [==============================] - 3s 17ms/step - loss: 8.2388e-04\n",
      "Epoch 71/100\n",
      "154/154 [==============================] - 3s 17ms/step - loss: 8.8632e-04\n",
      "Epoch 72/100\n",
      "154/154 [==============================] - 3s 17ms/step - loss: 9.8569e-04\n",
      "Epoch 73/100\n",
      "154/154 [==============================] - 3s 17ms/step - loss: 9.8453e-04\n",
      "Epoch 74/100\n",
      "154/154 [==============================] - 3s 17ms/step - loss: 8.5517e-04\n",
      "Epoch 75/100\n",
      "154/154 [==============================] - 3s 17ms/step - loss: 8.9039e-04\n",
      "Epoch 76/100\n",
      "154/154 [==============================] - 3s 17ms/step - loss: 9.1431e-04\n",
      "Epoch 77/100\n",
      "154/154 [==============================] - 3s 17ms/step - loss: 0.0011\n",
      "Epoch 78/100\n",
      "154/154 [==============================] - 3s 17ms/step - loss: 9.4161e-04\n",
      "Epoch 79/100\n",
      "154/154 [==============================] - 3s 17ms/step - loss: 9.0075e-04\n",
      "Epoch 80/100\n",
      "154/154 [==============================] - 3s 17ms/step - loss: 8.4403e-04\n",
      "Epoch 81/100\n",
      "154/154 [==============================] - 3s 17ms/step - loss: 7.8684e-04\n",
      "Epoch 82/100\n",
      "154/154 [==============================] - 3s 17ms/step - loss: 9.0151e-04\n",
      "Epoch 83/100\n",
      "154/154 [==============================] - 3s 17ms/step - loss: 9.4950e-04\n",
      "Epoch 84/100\n",
      "154/154 [==============================] - 3s 17ms/step - loss: 8.7768e-04\n",
      "Epoch 85/100\n",
      "154/154 [==============================] - 3s 17ms/step - loss: 8.7182e-04\n",
      "Epoch 86/100\n",
      "154/154 [==============================] - 3s 17ms/step - loss: 8.5768e-04\n",
      "Epoch 87/100\n",
      "154/154 [==============================] - 3s 17ms/step - loss: 8.5571e-04\n",
      "Epoch 88/100\n",
      "154/154 [==============================] - 3s 17ms/step - loss: 8.7296e-04\n",
      "Epoch 89/100\n",
      "154/154 [==============================] - 3s 17ms/step - loss: 8.2927e-04\n",
      "Epoch 90/100\n",
      "154/154 [==============================] - 3s 17ms/step - loss: 8.0793e-04\n",
      "Epoch 91/100\n",
      "154/154 [==============================] - 3s 17ms/step - loss: 8.3989e-04\n",
      "Epoch 92/100\n",
      "154/154 [==============================] - 3s 17ms/step - loss: 8.6718e-04\n",
      "Epoch 93/100\n",
      "154/154 [==============================] - 3s 17ms/step - loss: 8.1279e-04\n",
      "Epoch 94/100\n",
      "154/154 [==============================] - 3s 17ms/step - loss: 7.9625e-04\n",
      "Epoch 95/100\n",
      "154/154 [==============================] - 3s 17ms/step - loss: 9.0212e-04\n",
      "Epoch 96/100\n",
      "154/154 [==============================] - 3s 17ms/step - loss: 9.6160e-04\n",
      "Epoch 97/100\n",
      "154/154 [==============================] - 3s 17ms/step - loss: 8.3165e-04\n",
      "Epoch 98/100\n",
      "154/154 [==============================] - 3s 17ms/step - loss: 0.0010\n",
      "Epoch 99/100\n",
      "154/154 [==============================] - 3s 17ms/step - loss: 9.5469e-04\n",
      "Epoch 100/100\n",
      "154/154 [==============================] - 3s 17ms/step - loss: 8.6076e-04\n"
     ]
    },
    {
     "data": {
      "text/plain": [
       "<tensorflow.python.keras.callbacks.History at 0x1b13b131208>"
      ]
     },
     "execution_count": 13,
     "metadata": {},
     "output_type": "execute_result"
    }
   ],
   "source": [
    "model.fit(X_train, y_train, epochs=100,batch_size=32)"
   ]
  },
  {
   "cell_type": "code",
   "execution_count": 40,
   "metadata": {},
   "outputs": [],
   "source": [
    "test_set = np.loadtxt(fname)"
   ]
  },
  {
   "cell_type": "code",
   "execution_count": 41,
   "metadata": {},
   "outputs": [],
   "source": [
    "test_set = test_set[4000:]"
   ]
  },
  {
   "cell_type": "code",
   "execution_count": 42,
   "metadata": {},
   "outputs": [
    {
     "data": {
      "text/plain": [
       "(1000,)"
      ]
     },
     "execution_count": 42,
     "metadata": {},
     "output_type": "execute_result"
    }
   ],
   "source": [
    "test_set.shape"
   ]
  },
  {
   "cell_type": "code",
   "execution_count": 43,
   "metadata": {},
   "outputs": [],
   "source": [
    "inputs = test_set.reshape(-1,1)\n",
    "inputs = sc.transform(inputs)\n",
    "X_test = []\n",
    "for i in range(100, 1000):\n",
    "    X_test.append(inputs[i-100:i, 0])\n",
    "X_test = np.array(X_test)\n",
    "X_test = np.reshape(X_test, (X_test.shape[0], X_test.shape[1], 1))\n",
    "predicted_stock_price = model.predict(X_test)\n",
    "predicted_stock_price = sc.inverse_transform(predicted_stock_price)"
   ]
  },
  {
   "cell_type": "code",
   "execution_count": 44,
   "metadata": {},
   "outputs": [
    {
     "data": {
      "image/png": "[encoded data removed]",
      "text/plain": [
       "<Figure size 432x288 with 1 Axes>"
      ]
     },
     "metadata": {
      "needs_background": "light"
     },
     "output_type": "display_data"
    }
   ],
   "source": [
    "plt.plot(test_set, color = 'black', label = 'ground truth')\n",
    "plt.plot(predicted_stock_price, color = 'green', label = 'predict')\n",
    "plt.title('TATA Stock Price Prediction')\n",
    "plt.xlabel('Time')\n",
    "plt.ylabel('TATA Stock Price')\n",
    "plt.legend()\n",
    "plt.show()"
   ]
  },
  {
   "cell_type": "code",
   "execution_count": 37,
   "metadata": {},
   "outputs": [],
   "source": [
    "fname2 = 'C:\\\\Users\\\\arsayder\\\\PycharmProjects\\\\diff_masters\\\\samples2020-11-252015527850512.txt'\n",
    "test_set_fbm = np.loadtxt(fname2)\n",
    "test_set_fbm = test_set_fbm[4000:]"
   ]
  },
  {
   "cell_type": "code",
   "execution_count": 38,
   "metadata": {},
   "outputs": [],
   "source": [
    "inputs = test_set_fbm.reshape(-1,1)\n",
    "inputs = sc.transform(inputs)\n",
    "X_test = []\n",
    "for i in range(100, 1000):\n",
    "    X_test.append(inputs[i-100:i, 0])\n",
    "X_test = np.array(X_test)\n",
    "X_test = np.reshape(X_test, (X_test.shape[0], X_test.shape[1], 1))\n",
    "predicted_stock_price = model.predict(X_test)\n",
    "predicted_stock_price = sc.inverse_transform(predicted_stock_price)"
   ]
  },
  {
   "cell_type": "code",
   "execution_count": 39,
   "metadata": {},
   "outputs": [
    {
     "data": {
      "image/png": "[encoded data removed]",
      "text/plain": [
       "<Figure size 432x288 with 1 Axes>"
      ]
     },
     "metadata": {
      "needs_background": "light"
     },
     "output_type": "display_data"
    }
   ],
   "source": [
    "plt.plot(test_set_fbm, color = 'black', label = 'ground truth')\n",
    "plt.plot(predicted_stock_price, color = 'green', label = 'Predict')\n",
    "plt.title('TATA Stock Price Prediction')\n",
    "plt.xlabel('Time')\n",
    "plt.ylabel('TATA Stock Price')\n",
    "plt.legend()\n",
    "plt.show()"
   ]
  },
  {
   "cell_type": "code",
   "execution_count": 35,
   "metadata": {},
   "outputs": [
    {
     "data": {
      "image/png": "[encoded data removed]",
      "text/plain": [
       "<Figure size 432x288 with 1 Axes>"
      ]
     },
     "metadata": {
      "needs_background": "light"
     },
     "output_type": "display_data"
    }
   ],
   "source": [
    "fname2 = 'C:\\\\Users\\\\arsayder\\\\PycharmProjects\\\\diff_masters\\\\samples2020-11-25201552756025.txt'\n",
    "test_set_fbm = np.loadtxt(fname2)\n",
    "test_set_fbm = test_set_fbm[4000:]\n",
    "inputs = test_set_fbm.reshape(-1,1)\n",
    "inputs = sc.transform(inputs)\n",
    "X_test = []\n",
    "for i in range(100, 1000):\n",
    "    X_test.append(inputs[i-100:i, 0])\n",
    "X_test = np.array(X_test)\n",
    "X_test = np.reshape(X_test, (X_test.shape[0], X_test.shape[1], 1))\n",
    "predicted_stock_price = model.predict(X_test)\n",
    "predicted_stock_price = sc.inverse_transform(predicted_stock_price)\n",
    "plt.plot(test_set_fbm, color = 'black', label = 'ground truth')\n",
    "plt.plot(predicted_stock_price, color = 'green', label = 'Predict')\n",
    "plt.title('TATA Stock Price Prediction')\n",
    "plt.xlabel('Time')\n",
    "plt.ylabel('TATA Stock Price')\n",
    "plt.legend()\n",
    "plt.show()"
   ]
  },
  {
   "cell_type": "code",
   "execution_count": null,
   "metadata": {},
   "outputs": [],
   "source": []
  }
 ],
 "metadata": {
  "kernelspec": {
   "display_name": "Python 3",
   "language": "python",
   "name": "python3"
  },
  "language_info": {
   "codemirror_mode": {
    "name": "ipython",
    "version": 3
   },
   "file_extension": ".py",
   "mimetype": "text/x-python",
   "name": "python",
   "nbconvert_exporter": "python",
   "pygments_lexer": "ipython3",
   "version": "3.8.3"
  }
 },
 "nbformat": 4,
 "nbformat_minor": 2
}
