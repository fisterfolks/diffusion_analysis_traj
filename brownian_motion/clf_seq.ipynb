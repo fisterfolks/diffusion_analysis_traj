{
 "cells": [
  {
   "cell_type": "code",
   "execution_count": 1,
   "metadata": {},
   "outputs": [],
   "source": [
    "import pandas as pd\n",
    "import numpy as np\n",
    "%matplotlib inline\n",
    "import matplotlib.pyplot as plt\n",
    "from os import listdir"
   ]
  },
  {
   "cell_type": "code",
   "execution_count": 2,
   "metadata": {},
   "outputs": [],
   "source": [
    "import tensorflow as tf\n",
    "from tensorflow.keras.preprocessing import sequence\n",
    "\n",
    "from tensorflow.keras.models import Sequential, load_model\n",
    "from tensorflow.keras.layers import Dense, LSTM, Dropout\n",
    "from tensorflow.keras.optimizers import Adam\n",
    "from tensorflow.keras.callbacks import ModelCheckpoint"
   ]
  },
  {
   "cell_type": "markdown",
   "metadata": {},
   "source": [
    "### Load datasets"
   ]
  },
  {
   "cell_type": "code",
   "execution_count": 3,
   "metadata": {},
   "outputs": [],
   "source": [
    "df1 = pd.read_csv('dataset_fbm_target_0.csv',header=None)\n",
    "df2 = pd.read_csv('dataset_fbm_target_1.csv', header=None)"
   ]
  },
  {
   "cell_type": "code",
   "execution_count": 4,
   "metadata": {},
   "outputs": [
    {
     "data": {
      "text/html": [
       "<div>\n",
       "<style scoped>\n",
       "    .dataframe tbody tr th:only-of-type {\n",
       "        vertical-align: middle;\n",
       "    }\n",
       "\n",
       "    .dataframe tbody tr th {\n",
       "        vertical-align: top;\n",
       "    }\n",
       "\n",
       "    .dataframe thead th {\n",
       "        text-align: right;\n",
       "    }\n",
       "</style>\n",
       "<table border=\"1\" class=\"dataframe\">\n",
       "  <thead>\n",
       "    <tr style=\"text-align: right;\">\n",
       "      <th></th>\n",
       "      <th>0</th>\n",
       "      <th>1</th>\n",
       "      <th>2</th>\n",
       "      <th>3</th>\n",
       "      <th>4</th>\n",
       "      <th>5</th>\n",
       "      <th>6</th>\n",
       "      <th>7</th>\n",
       "      <th>8</th>\n",
       "      <th>9</th>\n",
       "      <th>...</th>\n",
       "      <th>190</th>\n",
       "      <th>191</th>\n",
       "      <th>192</th>\n",
       "      <th>193</th>\n",
       "      <th>194</th>\n",
       "      <th>195</th>\n",
       "      <th>196</th>\n",
       "      <th>197</th>\n",
       "      <th>198</th>\n",
       "      <th>199</th>\n",
       "    </tr>\n",
       "  </thead>\n",
       "  <tbody>\n",
       "    <tr>\n",
       "      <th>0</th>\n",
       "      <td>0.0</td>\n",
       "      <td>0.054653</td>\n",
       "      <td>0.132473</td>\n",
       "      <td>0.166179</td>\n",
       "      <td>0.219223</td>\n",
       "      <td>0.166224</td>\n",
       "      <td>0.223717</td>\n",
       "      <td>0.234737</td>\n",
       "      <td>0.181752</td>\n",
       "      <td>0.240739</td>\n",
       "      <td>...</td>\n",
       "      <td>-0.860267</td>\n",
       "      <td>-0.906902</td>\n",
       "      <td>-0.829231</td>\n",
       "      <td>-0.811425</td>\n",
       "      <td>-0.750427</td>\n",
       "      <td>-0.651314</td>\n",
       "      <td>-0.695100</td>\n",
       "      <td>-0.638686</td>\n",
       "      <td>-0.786556</td>\n",
       "      <td>0.0</td>\n",
       "    </tr>\n",
       "    <tr>\n",
       "      <th>1</th>\n",
       "      <td>0.0</td>\n",
       "      <td>0.096685</td>\n",
       "      <td>0.053403</td>\n",
       "      <td>0.072431</td>\n",
       "      <td>0.120024</td>\n",
       "      <td>0.142002</td>\n",
       "      <td>0.209432</td>\n",
       "      <td>0.240277</td>\n",
       "      <td>0.321979</td>\n",
       "      <td>0.395410</td>\n",
       "      <td>...</td>\n",
       "      <td>0.749411</td>\n",
       "      <td>0.613989</td>\n",
       "      <td>0.451497</td>\n",
       "      <td>0.525397</td>\n",
       "      <td>0.525881</td>\n",
       "      <td>0.496032</td>\n",
       "      <td>0.500053</td>\n",
       "      <td>0.587889</td>\n",
       "      <td>0.443416</td>\n",
       "      <td>0.0</td>\n",
       "    </tr>\n",
       "    <tr>\n",
       "      <th>2</th>\n",
       "      <td>0.0</td>\n",
       "      <td>-0.024728</td>\n",
       "      <td>-0.043989</td>\n",
       "      <td>-0.091526</td>\n",
       "      <td>-0.205577</td>\n",
       "      <td>-0.266951</td>\n",
       "      <td>-0.318029</td>\n",
       "      <td>-0.298911</td>\n",
       "      <td>-0.297087</td>\n",
       "      <td>-0.448494</td>\n",
       "      <td>...</td>\n",
       "      <td>-1.684643</td>\n",
       "      <td>-1.621030</td>\n",
       "      <td>-1.662795</td>\n",
       "      <td>-1.644794</td>\n",
       "      <td>-1.643079</td>\n",
       "      <td>-1.649599</td>\n",
       "      <td>-1.705844</td>\n",
       "      <td>-1.693458</td>\n",
       "      <td>-1.741250</td>\n",
       "      <td>0.0</td>\n",
       "    </tr>\n",
       "    <tr>\n",
       "      <th>3</th>\n",
       "      <td>0.0</td>\n",
       "      <td>0.053649</td>\n",
       "      <td>-0.013770</td>\n",
       "      <td>0.122753</td>\n",
       "      <td>0.094493</td>\n",
       "      <td>0.022394</td>\n",
       "      <td>0.106990</td>\n",
       "      <td>0.152904</td>\n",
       "      <td>0.149246</td>\n",
       "      <td>0.239737</td>\n",
       "      <td>...</td>\n",
       "      <td>1.229833</td>\n",
       "      <td>1.227078</td>\n",
       "      <td>1.187702</td>\n",
       "      <td>1.069809</td>\n",
       "      <td>1.103109</td>\n",
       "      <td>1.053878</td>\n",
       "      <td>1.058083</td>\n",
       "      <td>0.997871</td>\n",
       "      <td>0.844252</td>\n",
       "      <td>0.0</td>\n",
       "    </tr>\n",
       "    <tr>\n",
       "      <th>4</th>\n",
       "      <td>0.0</td>\n",
       "      <td>0.036753</td>\n",
       "      <td>-0.039029</td>\n",
       "      <td>0.028088</td>\n",
       "      <td>0.089706</td>\n",
       "      <td>0.120707</td>\n",
       "      <td>0.146665</td>\n",
       "      <td>0.019556</td>\n",
       "      <td>-0.025031</td>\n",
       "      <td>-0.126672</td>\n",
       "      <td>...</td>\n",
       "      <td>0.423407</td>\n",
       "      <td>0.490730</td>\n",
       "      <td>0.498146</td>\n",
       "      <td>0.506943</td>\n",
       "      <td>0.541367</td>\n",
       "      <td>0.497067</td>\n",
       "      <td>0.625605</td>\n",
       "      <td>0.628363</td>\n",
       "      <td>0.660385</td>\n",
       "      <td>0.0</td>\n",
       "    </tr>\n",
       "  </tbody>\n",
       "</table>\n",
       "<p>5 rows × 200 columns</p>\n",
       "</div>"
      ],
      "text/plain": [
       "   0         1         2         3         4         5         6         7    \\\n",
       "0  0.0  0.054653  0.132473  0.166179  0.219223  0.166224  0.223717  0.234737   \n",
       "1  0.0  0.096685  0.053403  0.072431  0.120024  0.142002  0.209432  0.240277   \n",
       "2  0.0 -0.024728 -0.043989 -0.091526 -0.205577 -0.266951 -0.318029 -0.298911   \n",
       "3  0.0  0.053649 -0.013770  0.122753  0.094493  0.022394  0.106990  0.152904   \n",
       "4  0.0  0.036753 -0.039029  0.028088  0.089706  0.120707  0.146665  0.019556   \n",
       "\n",
       "        8         9    ...       190       191       192       193       194  \\\n",
       "0  0.181752  0.240739  ... -0.860267 -0.906902 -0.829231 -0.811425 -0.750427   \n",
       "1  0.321979  0.395410  ...  0.749411  0.613989  0.451497  0.525397  0.525881   \n",
       "2 -0.297087 -0.448494  ... -1.684643 -1.621030 -1.662795 -1.644794 -1.643079   \n",
       "3  0.149246  0.239737  ...  1.229833  1.227078  1.187702  1.069809  1.103109   \n",
       "4 -0.025031 -0.126672  ...  0.423407  0.490730  0.498146  0.506943  0.541367   \n",
       "\n",
       "        195       196       197       198  199  \n",
       "0 -0.651314 -0.695100 -0.638686 -0.786556  0.0  \n",
       "1  0.496032  0.500053  0.587889  0.443416  0.0  \n",
       "2 -1.649599 -1.705844 -1.693458 -1.741250  0.0  \n",
       "3  1.053878  1.058083  0.997871  0.844252  0.0  \n",
       "4  0.497067  0.625605  0.628363  0.660385  0.0  \n",
       "\n",
       "[5 rows x 200 columns]"
      ]
     },
     "execution_count": 4,
     "metadata": {},
     "output_type": "execute_result"
    }
   ],
   "source": [
    "df1.head(5)"
   ]
  },
  {
   "cell_type": "code",
   "execution_count": 3,
   "metadata": {},
   "outputs": [],
   "source": [
    "from sklearn.model_selection import train_test_split, KFold, GridSearchCV"
   ]
  },
  {
   "cell_type": "markdown",
   "metadata": {},
   "source": [
    "### Join datasets to one dataframe"
   ]
  },
  {
   "cell_type": "code",
   "execution_count": 6,
   "metadata": {},
   "outputs": [
    {
     "data": {
      "text/html": [
       "<div>\n",
       "<style scoped>\n",
       "    .dataframe tbody tr th:only-of-type {\n",
       "        vertical-align: middle;\n",
       "    }\n",
       "\n",
       "    .dataframe tbody tr th {\n",
       "        vertical-align: top;\n",
       "    }\n",
       "\n",
       "    .dataframe thead th {\n",
       "        text-align: right;\n",
       "    }\n",
       "</style>\n",
       "<table border=\"1\" class=\"dataframe\">\n",
       "  <thead>\n",
       "    <tr style=\"text-align: right;\">\n",
       "      <th></th>\n",
       "      <th>0</th>\n",
       "      <th>1</th>\n",
       "      <th>2</th>\n",
       "      <th>3</th>\n",
       "      <th>4</th>\n",
       "      <th>5</th>\n",
       "      <th>6</th>\n",
       "      <th>7</th>\n",
       "      <th>8</th>\n",
       "      <th>9</th>\n",
       "      <th>...</th>\n",
       "      <th>190</th>\n",
       "      <th>191</th>\n",
       "      <th>192</th>\n",
       "      <th>193</th>\n",
       "      <th>194</th>\n",
       "      <th>195</th>\n",
       "      <th>196</th>\n",
       "      <th>197</th>\n",
       "      <th>198</th>\n",
       "      <th>199</th>\n",
       "    </tr>\n",
       "  </thead>\n",
       "  <tbody>\n",
       "    <tr>\n",
       "      <th>0</th>\n",
       "      <td>0.0</td>\n",
       "      <td>0.054653</td>\n",
       "      <td>0.132473</td>\n",
       "      <td>0.166179</td>\n",
       "      <td>0.219223</td>\n",
       "      <td>0.166224</td>\n",
       "      <td>0.223717</td>\n",
       "      <td>0.234737</td>\n",
       "      <td>0.181752</td>\n",
       "      <td>0.240739</td>\n",
       "      <td>...</td>\n",
       "      <td>-0.860267</td>\n",
       "      <td>-0.906902</td>\n",
       "      <td>-0.829231</td>\n",
       "      <td>-0.811425</td>\n",
       "      <td>-0.750427</td>\n",
       "      <td>-0.651314</td>\n",
       "      <td>-0.695100</td>\n",
       "      <td>-0.638686</td>\n",
       "      <td>-0.786556</td>\n",
       "      <td>0.0</td>\n",
       "    </tr>\n",
       "    <tr>\n",
       "      <th>1</th>\n",
       "      <td>0.0</td>\n",
       "      <td>0.096685</td>\n",
       "      <td>0.053403</td>\n",
       "      <td>0.072431</td>\n",
       "      <td>0.120024</td>\n",
       "      <td>0.142002</td>\n",
       "      <td>0.209432</td>\n",
       "      <td>0.240277</td>\n",
       "      <td>0.321979</td>\n",
       "      <td>0.395410</td>\n",
       "      <td>...</td>\n",
       "      <td>0.749411</td>\n",
       "      <td>0.613989</td>\n",
       "      <td>0.451497</td>\n",
       "      <td>0.525397</td>\n",
       "      <td>0.525881</td>\n",
       "      <td>0.496032</td>\n",
       "      <td>0.500053</td>\n",
       "      <td>0.587889</td>\n",
       "      <td>0.443416</td>\n",
       "      <td>0.0</td>\n",
       "    </tr>\n",
       "    <tr>\n",
       "      <th>2</th>\n",
       "      <td>0.0</td>\n",
       "      <td>-0.024728</td>\n",
       "      <td>-0.043989</td>\n",
       "      <td>-0.091526</td>\n",
       "      <td>-0.205577</td>\n",
       "      <td>-0.266951</td>\n",
       "      <td>-0.318029</td>\n",
       "      <td>-0.298911</td>\n",
       "      <td>-0.297087</td>\n",
       "      <td>-0.448494</td>\n",
       "      <td>...</td>\n",
       "      <td>-1.684643</td>\n",
       "      <td>-1.621030</td>\n",
       "      <td>-1.662795</td>\n",
       "      <td>-1.644794</td>\n",
       "      <td>-1.643079</td>\n",
       "      <td>-1.649599</td>\n",
       "      <td>-1.705844</td>\n",
       "      <td>-1.693458</td>\n",
       "      <td>-1.741250</td>\n",
       "      <td>0.0</td>\n",
       "    </tr>\n",
       "    <tr>\n",
       "      <th>3</th>\n",
       "      <td>0.0</td>\n",
       "      <td>0.053649</td>\n",
       "      <td>-0.013770</td>\n",
       "      <td>0.122753</td>\n",
       "      <td>0.094493</td>\n",
       "      <td>0.022394</td>\n",
       "      <td>0.106990</td>\n",
       "      <td>0.152904</td>\n",
       "      <td>0.149246</td>\n",
       "      <td>0.239737</td>\n",
       "      <td>...</td>\n",
       "      <td>1.229833</td>\n",
       "      <td>1.227078</td>\n",
       "      <td>1.187702</td>\n",
       "      <td>1.069809</td>\n",
       "      <td>1.103109</td>\n",
       "      <td>1.053878</td>\n",
       "      <td>1.058083</td>\n",
       "      <td>0.997871</td>\n",
       "      <td>0.844252</td>\n",
       "      <td>0.0</td>\n",
       "    </tr>\n",
       "    <tr>\n",
       "      <th>4</th>\n",
       "      <td>0.0</td>\n",
       "      <td>0.036753</td>\n",
       "      <td>-0.039029</td>\n",
       "      <td>0.028088</td>\n",
       "      <td>0.089706</td>\n",
       "      <td>0.120707</td>\n",
       "      <td>0.146665</td>\n",
       "      <td>0.019556</td>\n",
       "      <td>-0.025031</td>\n",
       "      <td>-0.126672</td>\n",
       "      <td>...</td>\n",
       "      <td>0.423407</td>\n",
       "      <td>0.490730</td>\n",
       "      <td>0.498146</td>\n",
       "      <td>0.506943</td>\n",
       "      <td>0.541367</td>\n",
       "      <td>0.497067</td>\n",
       "      <td>0.625605</td>\n",
       "      <td>0.628363</td>\n",
       "      <td>0.660385</td>\n",
       "      <td>0.0</td>\n",
       "    </tr>\n",
       "    <tr>\n",
       "      <th>...</th>\n",
       "      <td>...</td>\n",
       "      <td>...</td>\n",
       "      <td>...</td>\n",
       "      <td>...</td>\n",
       "      <td>...</td>\n",
       "      <td>...</td>\n",
       "      <td>...</td>\n",
       "      <td>...</td>\n",
       "      <td>...</td>\n",
       "      <td>...</td>\n",
       "      <td>...</td>\n",
       "      <td>...</td>\n",
       "      <td>...</td>\n",
       "      <td>...</td>\n",
       "      <td>...</td>\n",
       "      <td>...</td>\n",
       "      <td>...</td>\n",
       "      <td>...</td>\n",
       "      <td>...</td>\n",
       "      <td>...</td>\n",
       "      <td>...</td>\n",
       "    </tr>\n",
       "    <tr>\n",
       "      <th>495</th>\n",
       "      <td>0.0</td>\n",
       "      <td>-0.028713</td>\n",
       "      <td>-0.045893</td>\n",
       "      <td>-0.056188</td>\n",
       "      <td>-0.072219</td>\n",
       "      <td>-0.096426</td>\n",
       "      <td>-0.124043</td>\n",
       "      <td>-0.126961</td>\n",
       "      <td>-0.138749</td>\n",
       "      <td>-0.150061</td>\n",
       "      <td>...</td>\n",
       "      <td>-1.863159</td>\n",
       "      <td>-1.880961</td>\n",
       "      <td>-1.897656</td>\n",
       "      <td>-1.903383</td>\n",
       "      <td>-1.889623</td>\n",
       "      <td>-1.907247</td>\n",
       "      <td>-1.929271</td>\n",
       "      <td>-1.954850</td>\n",
       "      <td>-1.956546</td>\n",
       "      <td>1.0</td>\n",
       "    </tr>\n",
       "    <tr>\n",
       "      <th>496</th>\n",
       "      <td>0.0</td>\n",
       "      <td>0.017111</td>\n",
       "      <td>0.041465</td>\n",
       "      <td>0.054576</td>\n",
       "      <td>0.077498</td>\n",
       "      <td>0.099334</td>\n",
       "      <td>0.108366</td>\n",
       "      <td>0.115584</td>\n",
       "      <td>0.121283</td>\n",
       "      <td>0.128573</td>\n",
       "      <td>...</td>\n",
       "      <td>0.834131</td>\n",
       "      <td>0.807836</td>\n",
       "      <td>0.789682</td>\n",
       "      <td>0.775336</td>\n",
       "      <td>0.764918</td>\n",
       "      <td>0.755541</td>\n",
       "      <td>0.751312</td>\n",
       "      <td>0.749309</td>\n",
       "      <td>0.746875</td>\n",
       "      <td>1.0</td>\n",
       "    </tr>\n",
       "    <tr>\n",
       "      <th>497</th>\n",
       "      <td>0.0</td>\n",
       "      <td>0.011208</td>\n",
       "      <td>0.025415</td>\n",
       "      <td>0.027544</td>\n",
       "      <td>0.020891</td>\n",
       "      <td>0.031642</td>\n",
       "      <td>0.031130</td>\n",
       "      <td>0.039696</td>\n",
       "      <td>0.069318</td>\n",
       "      <td>0.086062</td>\n",
       "      <td>...</td>\n",
       "      <td>0.412687</td>\n",
       "      <td>0.410566</td>\n",
       "      <td>0.414043</td>\n",
       "      <td>0.409309</td>\n",
       "      <td>0.400862</td>\n",
       "      <td>0.395507</td>\n",
       "      <td>0.402936</td>\n",
       "      <td>0.412333</td>\n",
       "      <td>0.425467</td>\n",
       "      <td>1.0</td>\n",
       "    </tr>\n",
       "    <tr>\n",
       "      <th>498</th>\n",
       "      <td>0.0</td>\n",
       "      <td>0.008682</td>\n",
       "      <td>-0.001444</td>\n",
       "      <td>-0.004643</td>\n",
       "      <td>-0.017820</td>\n",
       "      <td>-0.026764</td>\n",
       "      <td>-0.036294</td>\n",
       "      <td>-0.049927</td>\n",
       "      <td>-0.055700</td>\n",
       "      <td>-0.067074</td>\n",
       "      <td>...</td>\n",
       "      <td>-1.230183</td>\n",
       "      <td>-1.239901</td>\n",
       "      <td>-1.255810</td>\n",
       "      <td>-1.241760</td>\n",
       "      <td>-1.247697</td>\n",
       "      <td>-1.257556</td>\n",
       "      <td>-1.265583</td>\n",
       "      <td>-1.272530</td>\n",
       "      <td>-1.278749</td>\n",
       "      <td>1.0</td>\n",
       "    </tr>\n",
       "    <tr>\n",
       "      <th>499</th>\n",
       "      <td>0.0</td>\n",
       "      <td>0.001022</td>\n",
       "      <td>-0.003511</td>\n",
       "      <td>-0.018518</td>\n",
       "      <td>-0.027848</td>\n",
       "      <td>-0.037538</td>\n",
       "      <td>-0.049345</td>\n",
       "      <td>-0.054045</td>\n",
       "      <td>-0.064416</td>\n",
       "      <td>-0.059687</td>\n",
       "      <td>...</td>\n",
       "      <td>0.640421</td>\n",
       "      <td>0.638827</td>\n",
       "      <td>0.630745</td>\n",
       "      <td>0.626353</td>\n",
       "      <td>0.624153</td>\n",
       "      <td>0.631183</td>\n",
       "      <td>0.641917</td>\n",
       "      <td>0.655656</td>\n",
       "      <td>0.666761</td>\n",
       "      <td>1.0</td>\n",
       "    </tr>\n",
       "  </tbody>\n",
       "</table>\n",
       "<p>1000 rows × 200 columns</p>\n",
       "</div>"
      ],
      "text/plain": [
       "     0         1         2         3         4         5         6    \\\n",
       "0    0.0  0.054653  0.132473  0.166179  0.219223  0.166224  0.223717   \n",
       "1    0.0  0.096685  0.053403  0.072431  0.120024  0.142002  0.209432   \n",
       "2    0.0 -0.024728 -0.043989 -0.091526 -0.205577 -0.266951 -0.318029   \n",
       "3    0.0  0.053649 -0.013770  0.122753  0.094493  0.022394  0.106990   \n",
       "4    0.0  0.036753 -0.039029  0.028088  0.089706  0.120707  0.146665   \n",
       "..   ...       ...       ...       ...       ...       ...       ...   \n",
       "495  0.0 -0.028713 -0.045893 -0.056188 -0.072219 -0.096426 -0.124043   \n",
       "496  0.0  0.017111  0.041465  0.054576  0.077498  0.099334  0.108366   \n",
       "497  0.0  0.011208  0.025415  0.027544  0.020891  0.031642  0.031130   \n",
       "498  0.0  0.008682 -0.001444 -0.004643 -0.017820 -0.026764 -0.036294   \n",
       "499  0.0  0.001022 -0.003511 -0.018518 -0.027848 -0.037538 -0.049345   \n",
       "\n",
       "          7         8         9    ...       190       191       192  \\\n",
       "0    0.234737  0.181752  0.240739  ... -0.860267 -0.906902 -0.829231   \n",
       "1    0.240277  0.321979  0.395410  ...  0.749411  0.613989  0.451497   \n",
       "2   -0.298911 -0.297087 -0.448494  ... -1.684643 -1.621030 -1.662795   \n",
       "3    0.152904  0.149246  0.239737  ...  1.229833  1.227078  1.187702   \n",
       "4    0.019556 -0.025031 -0.126672  ...  0.423407  0.490730  0.498146   \n",
       "..        ...       ...       ...  ...       ...       ...       ...   \n",
       "495 -0.126961 -0.138749 -0.150061  ... -1.863159 -1.880961 -1.897656   \n",
       "496  0.115584  0.121283  0.128573  ...  0.834131  0.807836  0.789682   \n",
       "497  0.039696  0.069318  0.086062  ...  0.412687  0.410566  0.414043   \n",
       "498 -0.049927 -0.055700 -0.067074  ... -1.230183 -1.239901 -1.255810   \n",
       "499 -0.054045 -0.064416 -0.059687  ...  0.640421  0.638827  0.630745   \n",
       "\n",
       "          193       194       195       196       197       198  199  \n",
       "0   -0.811425 -0.750427 -0.651314 -0.695100 -0.638686 -0.786556  0.0  \n",
       "1    0.525397  0.525881  0.496032  0.500053  0.587889  0.443416  0.0  \n",
       "2   -1.644794 -1.643079 -1.649599 -1.705844 -1.693458 -1.741250  0.0  \n",
       "3    1.069809  1.103109  1.053878  1.058083  0.997871  0.844252  0.0  \n",
       "4    0.506943  0.541367  0.497067  0.625605  0.628363  0.660385  0.0  \n",
       "..        ...       ...       ...       ...       ...       ...  ...  \n",
       "495 -1.903383 -1.889623 -1.907247 -1.929271 -1.954850 -1.956546  1.0  \n",
       "496  0.775336  0.764918  0.755541  0.751312  0.749309  0.746875  1.0  \n",
       "497  0.409309  0.400862  0.395507  0.402936  0.412333  0.425467  1.0  \n",
       "498 -1.241760 -1.247697 -1.257556 -1.265583 -1.272530 -1.278749  1.0  \n",
       "499  0.626353  0.624153  0.631183  0.641917  0.655656  0.666761  1.0  \n",
       "\n",
       "[1000 rows x 200 columns]"
      ]
     },
     "execution_count": 6,
     "metadata": {},
     "output_type": "execute_result"
    }
   ],
   "source": [
    "df = df1.append(df2)\n",
    "df"
   ]
  },
  {
   "cell_type": "markdown",
   "metadata": {},
   "source": [
    "#### Save targets to у variable"
   ]
  },
  {
   "cell_type": "code",
   "execution_count": 7,
   "metadata": {},
   "outputs": [],
   "source": [
    "y = df[199]"
   ]
  },
  {
   "cell_type": "code",
   "execution_count": 8,
   "metadata": {},
   "outputs": [
    {
     "data": {
      "text/html": [
       "<div>\n",
       "<style scoped>\n",
       "    .dataframe tbody tr th:only-of-type {\n",
       "        vertical-align: middle;\n",
       "    }\n",
       "\n",
       "    .dataframe tbody tr th {\n",
       "        vertical-align: top;\n",
       "    }\n",
       "\n",
       "    .dataframe thead th {\n",
       "        text-align: right;\n",
       "    }\n",
       "</style>\n",
       "<table border=\"1\" class=\"dataframe\">\n",
       "  <thead>\n",
       "    <tr style=\"text-align: right;\">\n",
       "      <th></th>\n",
       "      <th>0</th>\n",
       "      <th>1</th>\n",
       "      <th>2</th>\n",
       "      <th>3</th>\n",
       "      <th>4</th>\n",
       "      <th>5</th>\n",
       "      <th>6</th>\n",
       "      <th>7</th>\n",
       "      <th>8</th>\n",
       "      <th>9</th>\n",
       "      <th>...</th>\n",
       "      <th>189</th>\n",
       "      <th>190</th>\n",
       "      <th>191</th>\n",
       "      <th>192</th>\n",
       "      <th>193</th>\n",
       "      <th>194</th>\n",
       "      <th>195</th>\n",
       "      <th>196</th>\n",
       "      <th>197</th>\n",
       "      <th>198</th>\n",
       "    </tr>\n",
       "  </thead>\n",
       "  <tbody>\n",
       "    <tr>\n",
       "      <th>0</th>\n",
       "      <td>0.0</td>\n",
       "      <td>0.054653</td>\n",
       "      <td>0.132473</td>\n",
       "      <td>0.166179</td>\n",
       "      <td>0.219223</td>\n",
       "      <td>0.166224</td>\n",
       "      <td>0.223717</td>\n",
       "      <td>0.234737</td>\n",
       "      <td>0.181752</td>\n",
       "      <td>0.240739</td>\n",
       "      <td>...</td>\n",
       "      <td>-0.871151</td>\n",
       "      <td>-0.860267</td>\n",
       "      <td>-0.906902</td>\n",
       "      <td>-0.829231</td>\n",
       "      <td>-0.811425</td>\n",
       "      <td>-0.750427</td>\n",
       "      <td>-0.651314</td>\n",
       "      <td>-0.695100</td>\n",
       "      <td>-0.638686</td>\n",
       "      <td>-0.786556</td>\n",
       "    </tr>\n",
       "    <tr>\n",
       "      <th>1</th>\n",
       "      <td>0.0</td>\n",
       "      <td>0.096685</td>\n",
       "      <td>0.053403</td>\n",
       "      <td>0.072431</td>\n",
       "      <td>0.120024</td>\n",
       "      <td>0.142002</td>\n",
       "      <td>0.209432</td>\n",
       "      <td>0.240277</td>\n",
       "      <td>0.321979</td>\n",
       "      <td>0.395410</td>\n",
       "      <td>...</td>\n",
       "      <td>0.728597</td>\n",
       "      <td>0.749411</td>\n",
       "      <td>0.613989</td>\n",
       "      <td>0.451497</td>\n",
       "      <td>0.525397</td>\n",
       "      <td>0.525881</td>\n",
       "      <td>0.496032</td>\n",
       "      <td>0.500053</td>\n",
       "      <td>0.587889</td>\n",
       "      <td>0.443416</td>\n",
       "    </tr>\n",
       "    <tr>\n",
       "      <th>2</th>\n",
       "      <td>0.0</td>\n",
       "      <td>-0.024728</td>\n",
       "      <td>-0.043989</td>\n",
       "      <td>-0.091526</td>\n",
       "      <td>-0.205577</td>\n",
       "      <td>-0.266951</td>\n",
       "      <td>-0.318029</td>\n",
       "      <td>-0.298911</td>\n",
       "      <td>-0.297087</td>\n",
       "      <td>-0.448494</td>\n",
       "      <td>...</td>\n",
       "      <td>-1.708459</td>\n",
       "      <td>-1.684643</td>\n",
       "      <td>-1.621030</td>\n",
       "      <td>-1.662795</td>\n",
       "      <td>-1.644794</td>\n",
       "      <td>-1.643079</td>\n",
       "      <td>-1.649599</td>\n",
       "      <td>-1.705844</td>\n",
       "      <td>-1.693458</td>\n",
       "      <td>-1.741250</td>\n",
       "    </tr>\n",
       "    <tr>\n",
       "      <th>3</th>\n",
       "      <td>0.0</td>\n",
       "      <td>0.053649</td>\n",
       "      <td>-0.013770</td>\n",
       "      <td>0.122753</td>\n",
       "      <td>0.094493</td>\n",
       "      <td>0.022394</td>\n",
       "      <td>0.106990</td>\n",
       "      <td>0.152904</td>\n",
       "      <td>0.149246</td>\n",
       "      <td>0.239737</td>\n",
       "      <td>...</td>\n",
       "      <td>1.150194</td>\n",
       "      <td>1.229833</td>\n",
       "      <td>1.227078</td>\n",
       "      <td>1.187702</td>\n",
       "      <td>1.069809</td>\n",
       "      <td>1.103109</td>\n",
       "      <td>1.053878</td>\n",
       "      <td>1.058083</td>\n",
       "      <td>0.997871</td>\n",
       "      <td>0.844252</td>\n",
       "    </tr>\n",
       "    <tr>\n",
       "      <th>4</th>\n",
       "      <td>0.0</td>\n",
       "      <td>0.036753</td>\n",
       "      <td>-0.039029</td>\n",
       "      <td>0.028088</td>\n",
       "      <td>0.089706</td>\n",
       "      <td>0.120707</td>\n",
       "      <td>0.146665</td>\n",
       "      <td>0.019556</td>\n",
       "      <td>-0.025031</td>\n",
       "      <td>-0.126672</td>\n",
       "      <td>...</td>\n",
       "      <td>0.381790</td>\n",
       "      <td>0.423407</td>\n",
       "      <td>0.490730</td>\n",
       "      <td>0.498146</td>\n",
       "      <td>0.506943</td>\n",
       "      <td>0.541367</td>\n",
       "      <td>0.497067</td>\n",
       "      <td>0.625605</td>\n",
       "      <td>0.628363</td>\n",
       "      <td>0.660385</td>\n",
       "    </tr>\n",
       "  </tbody>\n",
       "</table>\n",
       "<p>5 rows × 199 columns</p>\n",
       "</div>"
      ],
      "text/plain": [
       "   0         1         2         3         4         5         6         7    \\\n",
       "0  0.0  0.054653  0.132473  0.166179  0.219223  0.166224  0.223717  0.234737   \n",
       "1  0.0  0.096685  0.053403  0.072431  0.120024  0.142002  0.209432  0.240277   \n",
       "2  0.0 -0.024728 -0.043989 -0.091526 -0.205577 -0.266951 -0.318029 -0.298911   \n",
       "3  0.0  0.053649 -0.013770  0.122753  0.094493  0.022394  0.106990  0.152904   \n",
       "4  0.0  0.036753 -0.039029  0.028088  0.089706  0.120707  0.146665  0.019556   \n",
       "\n",
       "        8         9    ...       189       190       191       192       193  \\\n",
       "0  0.181752  0.240739  ... -0.871151 -0.860267 -0.906902 -0.829231 -0.811425   \n",
       "1  0.321979  0.395410  ...  0.728597  0.749411  0.613989  0.451497  0.525397   \n",
       "2 -0.297087 -0.448494  ... -1.708459 -1.684643 -1.621030 -1.662795 -1.644794   \n",
       "3  0.149246  0.239737  ...  1.150194  1.229833  1.227078  1.187702  1.069809   \n",
       "4 -0.025031 -0.126672  ...  0.381790  0.423407  0.490730  0.498146  0.506943   \n",
       "\n",
       "        194       195       196       197       198  \n",
       "0 -0.750427 -0.651314 -0.695100 -0.638686 -0.786556  \n",
       "1  0.525881  0.496032  0.500053  0.587889  0.443416  \n",
       "2 -1.643079 -1.649599 -1.705844 -1.693458 -1.741250  \n",
       "3  1.103109  1.053878  1.058083  0.997871  0.844252  \n",
       "4  0.541367  0.497067  0.625605  0.628363  0.660385  \n",
       "\n",
       "[5 rows x 199 columns]"
      ]
     },
     "execution_count": 8,
     "metadata": {},
     "output_type": "execute_result"
    }
   ],
   "source": [
    "df.drop(columns=[199], inplace=True)\n",
    "df.head()"
   ]
  },
  {
   "cell_type": "code",
   "execution_count": 9,
   "metadata": {},
   "outputs": [],
   "source": [
    "X_train, X_val, y_train, y_val = train_test_split(df, y, test_size=0.33, random_state=42)"
   ]
  },
  {
   "cell_type": "code",
   "execution_count": 10,
   "metadata": {},
   "outputs": [
    {
     "data": {
      "text/plain": [
       "((670, 199), (330, 199), (670,), (330,))"
      ]
     },
     "execution_count": 10,
     "metadata": {},
     "output_type": "execute_result"
    }
   ],
   "source": [
    "X_train.shape, X_val.shape, y_train.shape, y_val.shape"
   ]
  },
  {
   "cell_type": "code",
   "execution_count": 11,
   "metadata": {},
   "outputs": [
    {
     "data": {
      "text/plain": [
       "(670, 199, 1)"
      ]
     },
     "execution_count": 11,
     "metadata": {},
     "output_type": "execute_result"
    }
   ],
   "source": [
    "X_train = np.expand_dims(X_train, axis=2)\n",
    "X_train.shape"
   ]
  },
  {
   "cell_type": "code",
   "execution_count": 12,
   "metadata": {},
   "outputs": [
    {
     "data": {
      "text/plain": [
       "(330, 199, 1)"
      ]
     },
     "execution_count": 12,
     "metadata": {},
     "output_type": "execute_result"
    }
   ],
   "source": [
    "X_val = np.expand_dims(X_val, axis=2)\n",
    "X_val.shape"
   ]
  },
  {
   "cell_type": "markdown",
   "metadata": {},
   "source": [
    "### Model"
   ]
  },
  {
   "cell_type": "code",
   "execution_count": 13,
   "metadata": {},
   "outputs": [],
   "source": [
    "model = Sequential()\n",
    "model.add(LSTM(256, input_shape=(199, 1), return_sequences=True))\n",
    "model.add(Dropout(0.2))\n",
    "model.add(LSTM(64, return_sequences=True))\n",
    "model.add(Dense(1, activation='sigmoid'))"
   ]
  },
  {
   "cell_type": "code",
   "execution_count": 14,
   "metadata": {},
   "outputs": [
    {
     "name": "stdout",
     "output_type": "stream",
     "text": [
      "Model: \"sequential\"\n",
      "_________________________________________________________________\n",
      "Layer (type)                 Output Shape              Param #   \n",
      "=================================================================\n",
      "lstm (LSTM)                  (None, 199, 256)          264192    \n",
      "_________________________________________________________________\n",
      "dropout (Dropout)            (None, 199, 256)          0         \n",
      "_________________________________________________________________\n",
      "lstm_1 (LSTM)                (None, 199, 64)           82176     \n",
      "_________________________________________________________________\n",
      "dense (Dense)                (None, 199, 1)            65        \n",
      "=================================================================\n",
      "Total params: 346,433\n",
      "Trainable params: 346,433\n",
      "Non-trainable params: 0\n",
      "_________________________________________________________________\n"
     ]
    }
   ],
   "source": [
    "model.summary()"
   ]
  },
  {
   "cell_type": "code",
   "execution_count": 15,
   "metadata": {},
   "outputs": [
    {
     "data": {
      "text/plain": [
       "((670, 199, 1), (670,), (330, 199, 1), (330,))"
      ]
     },
     "execution_count": 15,
     "metadata": {},
     "output_type": "execute_result"
    }
   ],
   "source": [
    "X_train.shape, y_train.shape, X_val.shape, y_val.shape"
   ]
  },
  {
   "cell_type": "markdown",
   "metadata": {},
   "source": [
    "### Training"
   ]
  },
  {
   "cell_type": "code",
   "execution_count": 16,
   "metadata": {},
   "outputs": [],
   "source": [
    "n_epochs = 75"
   ]
  },
  {
   "cell_type": "code",
   "execution_count": 17,
   "metadata": {},
   "outputs": [
    {
     "name": "stdout",
     "output_type": "stream",
     "text": [
      "Epoch 1/100\n",
      "6/6 [==============================] - 4s 192ms/step - loss: 0.6934 - accuracy: 0.5344 - val_loss: 0.6953 - val_accuracy: 0.5141\n",
      "Epoch 2/100\n",
      "6/6 [==============================] - 0s 49ms/step - loss: 0.6902 - accuracy: 0.5484 - val_loss: 0.6957 - val_accuracy: 0.5035\n",
      "Epoch 3/100\n",
      "6/6 [==============================] - 0s 48ms/step - loss: 0.6895 - accuracy: 0.5180 - val_loss: 0.6966 - val_accuracy: 0.5144\n",
      "Epoch 4/100\n",
      "6/6 [==============================] - 0s 50ms/step - loss: 0.6873 - accuracy: 0.5310 - val_loss: 0.6935 - val_accuracy: 0.5489\n",
      "Epoch 5/100\n",
      "6/6 [==============================] - 0s 50ms/step - loss: 0.6915 - accuracy: 0.5323 - val_loss: 0.6921 - val_accuracy: 0.5294\n",
      "Epoch 6/100\n",
      "6/6 [==============================] - 0s 49ms/step - loss: 0.6902 - accuracy: 0.5402 - val_loss: 0.6966 - val_accuracy: 0.5146\n",
      "Epoch 7/100\n",
      "6/6 [==============================] - 0s 49ms/step - loss: 0.6875 - accuracy: 0.5467 - val_loss: 0.7006 - val_accuracy: 0.5143\n",
      "Epoch 8/100\n",
      "6/6 [==============================] - 0s 49ms/step - loss: 0.6913 - accuracy: 0.5369 - val_loss: 0.6946 - val_accuracy: 0.5076\n",
      "Epoch 9/100\n",
      "6/6 [==============================] - 0s 50ms/step - loss: 0.6904 - accuracy: 0.5265 - val_loss: 0.6908 - val_accuracy: 0.5388\n",
      "Epoch 10/100\n",
      "6/6 [==============================] - 0s 48ms/step - loss: 0.6885 - accuracy: 0.5415 - val_loss: 0.6876 - val_accuracy: 0.5336\n",
      "Epoch 11/100\n",
      "6/6 [==============================] - 0s 49ms/step - loss: 0.6841 - accuracy: 0.5602 - val_loss: 0.6968 - val_accuracy: 0.5261\n",
      "Epoch 12/100\n",
      "6/6 [==============================] - 0s 49ms/step - loss: 0.6875 - accuracy: 0.5591 - val_loss: 0.6916 - val_accuracy: 0.5671\n",
      "Epoch 13/100\n",
      "6/6 [==============================] - 0s 48ms/step - loss: 0.6877 - accuracy: 0.5565 - val_loss: 0.6903 - val_accuracy: 0.5693\n",
      "Epoch 14/100\n",
      "6/6 [==============================] - 0s 49ms/step - loss: 0.6836 - accuracy: 0.5755 - val_loss: 0.6849 - val_accuracy: 0.5911\n",
      "Epoch 15/100\n",
      "6/6 [==============================] - 0s 48ms/step - loss: 0.6726 - accuracy: 0.6001 - val_loss: 0.6449 - val_accuracy: 0.6369\n",
      "Epoch 16/100\n",
      "6/6 [==============================] - 0s 49ms/step - loss: 0.6380 - accuracy: 0.6373 - val_loss: 0.6355 - val_accuracy: 0.6393\n",
      "Epoch 17/100\n",
      "6/6 [==============================] - 0s 49ms/step - loss: 0.6264 - accuracy: 0.6474 - val_loss: 0.5102 - val_accuracy: 0.7683\n",
      "Epoch 18/100\n",
      "6/6 [==============================] - 0s 48ms/step - loss: 0.5282 - accuracy: 0.7351 - val_loss: 0.4657 - val_accuracy: 0.8019\n",
      "Epoch 19/100\n",
      "6/6 [==============================] - 0s 50ms/step - loss: 0.4922 - accuracy: 0.7802 - val_loss: 0.3897 - val_accuracy: 0.8405\n",
      "Epoch 20/100\n",
      "6/6 [==============================] - 0s 49ms/step - loss: 0.4790 - accuracy: 0.7963 - val_loss: 0.4517 - val_accuracy: 0.8064\n",
      "Epoch 21/100\n",
      "6/6 [==============================] - 0s 50ms/step - loss: 0.4854 - accuracy: 0.7673 - val_loss: 0.4309 - val_accuracy: 0.8042\n",
      "Epoch 22/100\n",
      "6/6 [==============================] - 0s 50ms/step - loss: 0.5339 - accuracy: 0.7436 - val_loss: 0.4225 - val_accuracy: 0.8069\n",
      "Epoch 23/100\n",
      "6/6 [==============================] - 0s 48ms/step - loss: 0.4745 - accuracy: 0.7752 - val_loss: 0.4610 - val_accuracy: 0.8138\n",
      "Epoch 24/100\n",
      "6/6 [==============================] - 0s 48ms/step - loss: 0.4833 - accuracy: 0.7771 - val_loss: 0.5415 - val_accuracy: 0.6969\n",
      "Epoch 25/100\n",
      "6/6 [==============================] - 0s 49ms/step - loss: 0.5180 - accuracy: 0.7217 - val_loss: 0.4849 - val_accuracy: 0.7407\n",
      "Epoch 26/100\n",
      "6/6 [==============================] - 0s 49ms/step - loss: 0.4579 - accuracy: 0.7663 - val_loss: 0.5055 - val_accuracy: 0.7732\n",
      "Epoch 27/100\n",
      "6/6 [==============================] - 0s 47ms/step - loss: 0.4266 - accuracy: 0.8110 - val_loss: 0.3119 - val_accuracy: 0.8689\n",
      "Epoch 28/100\n",
      "6/6 [==============================] - 0s 48ms/step - loss: 0.2729 - accuracy: 0.8907 - val_loss: 0.1939 - val_accuracy: 0.9330\n",
      "Epoch 29/100\n",
      "6/6 [==============================] - 0s 64ms/step - loss: 0.2331 - accuracy: 0.9056 - val_loss: 0.2737 - val_accuracy: 0.8749\n",
      "Epoch 30/100\n",
      "6/6 [==============================] - 0s 51ms/step - loss: 0.2751 - accuracy: 0.8710 - val_loss: 0.2599 - val_accuracy: 0.8948\n",
      "Epoch 31/100\n",
      "6/6 [==============================] - 0s 50ms/step - loss: 0.2407 - accuracy: 0.8920 - val_loss: 0.2324 - val_accuracy: 0.9001\n",
      "Epoch 32/100\n",
      "6/6 [==============================] - 0s 48ms/step - loss: 0.2186 - accuracy: 0.9064 - val_loss: 0.1791 - val_accuracy: 0.9267\n",
      "Epoch 33/100\n",
      "6/6 [==============================] - 0s 49ms/step - loss: 0.1941 - accuracy: 0.9187 - val_loss: 0.1819 - val_accuracy: 0.9244\n",
      "Epoch 34/100\n",
      "6/6 [==============================] - 0s 50ms/step - loss: 0.1776 - accuracy: 0.9205 - val_loss: 0.1524 - val_accuracy: 0.9362\n",
      "Epoch 35/100\n",
      "6/6 [==============================] - 0s 48ms/step - loss: 0.1582 - accuracy: 0.9289 - val_loss: 0.1621 - val_accuracy: 0.9195\n",
      "Epoch 36/100\n",
      "6/6 [==============================] - 0s 48ms/step - loss: 0.1650 - accuracy: 0.9184 - val_loss: 0.1353 - val_accuracy: 0.9369\n",
      "Epoch 37/100\n",
      "6/6 [==============================] - 0s 49ms/step - loss: 0.1434 - accuracy: 0.9276 - val_loss: 0.1268 - val_accuracy: 0.9443\n",
      "Epoch 38/100\n",
      "6/6 [==============================] - 0s 51ms/step - loss: 0.1257 - accuracy: 0.9399 - val_loss: 0.1318 - val_accuracy: 0.9415\n",
      "Epoch 39/100\n",
      "6/6 [==============================] - 0s 48ms/step - loss: 0.1344 - accuracy: 0.9400 - val_loss: 0.1158 - val_accuracy: 0.9489\n",
      "Epoch 40/100\n",
      "6/6 [==============================] - 0s 50ms/step - loss: 0.1242 - accuracy: 0.9412 - val_loss: 0.1088 - val_accuracy: 0.9513\n",
      "Epoch 41/100\n",
      "6/6 [==============================] - 0s 49ms/step - loss: 0.1159 - accuracy: 0.9474 - val_loss: 0.1051 - val_accuracy: 0.9494\n",
      "Epoch 42/100\n",
      "6/6 [==============================] - 0s 51ms/step - loss: 0.1053 - accuracy: 0.9473 - val_loss: 0.1129 - val_accuracy: 0.9473\n",
      "Epoch 43/100\n",
      "6/6 [==============================] - 0s 49ms/step - loss: 0.1196 - accuracy: 0.9441 - val_loss: 0.1076 - val_accuracy: 0.9509\n",
      "Epoch 44/100\n",
      "6/6 [==============================] - 0s 50ms/step - loss: 0.1044 - accuracy: 0.9516 - val_loss: 0.0996 - val_accuracy: 0.9560\n",
      "Epoch 45/100\n",
      "6/6 [==============================] - 0s 51ms/step - loss: 0.1038 - accuracy: 0.9543 - val_loss: 0.1007 - val_accuracy: 0.9552\n",
      "Epoch 46/100\n",
      "6/6 [==============================] - 0s 50ms/step - loss: 0.1005 - accuracy: 0.9541 - val_loss: 0.0892 - val_accuracy: 0.9613\n",
      "Epoch 47/100\n",
      "6/6 [==============================] - 0s 49ms/step - loss: 0.0925 - accuracy: 0.9595 - val_loss: 0.0884 - val_accuracy: 0.9590\n",
      "Epoch 48/100\n",
      "6/6 [==============================] - 0s 50ms/step - loss: 0.0912 - accuracy: 0.9582 - val_loss: 0.0861 - val_accuracy: 0.9600\n",
      "Epoch 49/100\n",
      "6/6 [==============================] - 0s 49ms/step - loss: 0.0908 - accuracy: 0.9579 - val_loss: 0.0874 - val_accuracy: 0.9593\n",
      "Epoch 50/100\n",
      "6/6 [==============================] - 0s 51ms/step - loss: 0.0928 - accuracy: 0.9568 - val_loss: 0.0963 - val_accuracy: 0.9572\n",
      "Epoch 51/100\n",
      "6/6 [==============================] - 0s 49ms/step - loss: 0.1064 - accuracy: 0.9524 - val_loss: 0.1070 - val_accuracy: 0.9598\n",
      "Epoch 52/100\n",
      "6/6 [==============================] - 0s 49ms/step - loss: 0.1123 - accuracy: 0.9582 - val_loss: 0.0901 - val_accuracy: 0.9618\n",
      "Epoch 53/100\n",
      "6/6 [==============================] - 0s 48ms/step - loss: 0.0951 - accuracy: 0.9569 - val_loss: 0.0818 - val_accuracy: 0.9646\n",
      "Epoch 54/100\n",
      "6/6 [==============================] - 0s 48ms/step - loss: 0.0850 - accuracy: 0.9656 - val_loss: 0.0908 - val_accuracy: 0.9593\n",
      "Epoch 55/100\n",
      "6/6 [==============================] - 0s 50ms/step - loss: 0.1710 - accuracy: 0.9416 - val_loss: 0.1643 - val_accuracy: 0.9190\n",
      "Epoch 56/100\n",
      "6/6 [==============================] - 0s 48ms/step - loss: 0.2326 - accuracy: 0.8967 - val_loss: 0.1446 - val_accuracy: 0.9373\n",
      "Epoch 57/100\n",
      "6/6 [==============================] - 0s 49ms/step - loss: 0.1601 - accuracy: 0.9300 - val_loss: 0.1497 - val_accuracy: 0.9413\n",
      "Epoch 58/100\n",
      "6/6 [==============================] - 0s 50ms/step - loss: 0.1629 - accuracy: 0.9367 - val_loss: 0.1582 - val_accuracy: 0.9424\n",
      "Epoch 59/100\n",
      "6/6 [==============================] - 0s 50ms/step - loss: 0.1775 - accuracy: 0.9367 - val_loss: 0.1067 - val_accuracy: 0.9538\n",
      "Epoch 60/100\n",
      "6/6 [==============================] - 0s 52ms/step - loss: 0.1485 - accuracy: 0.9378 - val_loss: 0.1083 - val_accuracy: 0.9513\n",
      "Epoch 61/100\n",
      "6/6 [==============================] - 0s 50ms/step - loss: 0.1286 - accuracy: 0.9459 - val_loss: 0.1323 - val_accuracy: 0.9474\n",
      "Epoch 62/100\n",
      "6/6 [==============================] - 0s 52ms/step - loss: 0.1423 - accuracy: 0.9454 - val_loss: 0.0899 - val_accuracy: 0.9592\n",
      "Epoch 63/100\n",
      "6/6 [==============================] - 0s 51ms/step - loss: 0.1086 - accuracy: 0.9528 - val_loss: 0.0840 - val_accuracy: 0.9626\n",
      "Epoch 64/100\n",
      "6/6 [==============================] - 0s 49ms/step - loss: 0.0973 - accuracy: 0.9594 - val_loss: 0.0809 - val_accuracy: 0.9641\n",
      "Epoch 65/100\n",
      "6/6 [==============================] - 0s 51ms/step - loss: 0.0986 - accuracy: 0.9580 - val_loss: 0.0788 - val_accuracy: 0.9634\n",
      "Epoch 66/100\n",
      "6/6 [==============================] - 0s 51ms/step - loss: 0.0847 - accuracy: 0.9615 - val_loss: 0.0794 - val_accuracy: 0.9631\n",
      "Epoch 67/100\n",
      "6/6 [==============================] - 0s 50ms/step - loss: 0.0888 - accuracy: 0.9591 - val_loss: 0.0781 - val_accuracy: 0.9633\n",
      "Epoch 68/100\n",
      "6/6 [==============================] - 0s 51ms/step - loss: 0.0752 - accuracy: 0.9645 - val_loss: 0.0861 - val_accuracy: 0.9608\n",
      "Epoch 69/100\n",
      "6/6 [==============================] - 0s 52ms/step - loss: 0.1382 - accuracy: 0.9469 - val_loss: 0.1718 - val_accuracy: 0.9459\n",
      "Epoch 70/100\n",
      "6/6 [==============================] - 0s 51ms/step - loss: 0.2389 - accuracy: 0.9283 - val_loss: 0.1796 - val_accuracy: 0.9217\n",
      "Epoch 71/100\n",
      "6/6 [==============================] - 0s 52ms/step - loss: 0.1889 - accuracy: 0.9155 - val_loss: 0.1709 - val_accuracy: 0.9393\n",
      "Epoch 72/100\n",
      "6/6 [==============================] - 0s 49ms/step - loss: 0.1423 - accuracy: 0.9478 - val_loss: 0.1333 - val_accuracy: 0.9515\n",
      "Epoch 73/100\n",
      "6/6 [==============================] - 0s 63ms/step - loss: 0.1186 - accuracy: 0.9498 - val_loss: 0.1468 - val_accuracy: 0.9413\n",
      "Epoch 74/100\n",
      "6/6 [==============================] - 0s 48ms/step - loss: 0.2515 - accuracy: 0.9173 - val_loss: 0.1022 - val_accuracy: 0.9516\n",
      "Epoch 75/100\n",
      "6/6 [==============================] - 0s 49ms/step - loss: 0.1043 - accuracy: 0.9520 - val_loss: 0.1309 - val_accuracy: 0.9356\n",
      "Epoch 76/100\n",
      "6/6 [==============================] - 0s 48ms/step - loss: 0.1280 - accuracy: 0.9396 - val_loss: 0.1033 - val_accuracy: 0.9581\n",
      "Epoch 77/100\n",
      "6/6 [==============================] - 0s 51ms/step - loss: 0.1026 - accuracy: 0.9590 - val_loss: 0.0849 - val_accuracy: 0.9631\n",
      "Epoch 78/100\n",
      "6/6 [==============================] - 0s 49ms/step - loss: 0.0782 - accuracy: 0.9667 - val_loss: 0.0704 - val_accuracy: 0.9672\n",
      "Epoch 79/100\n",
      "6/6 [==============================] - 0s 49ms/step - loss: 0.0697 - accuracy: 0.9670 - val_loss: 0.0679 - val_accuracy: 0.9676\n",
      "Epoch 80/100\n",
      "6/6 [==============================] - 0s 50ms/step - loss: 0.0658 - accuracy: 0.9683 - val_loss: 0.1248 - val_accuracy: 0.9570\n",
      "Epoch 81/100\n",
      "6/6 [==============================] - 0s 49ms/step - loss: 0.0886 - accuracy: 0.9637 - val_loss: 0.0668 - val_accuracy: 0.9692\n",
      "Epoch 82/100\n",
      "6/6 [==============================] - 0s 50ms/step - loss: 0.0655 - accuracy: 0.9707 - val_loss: 0.0652 - val_accuracy: 0.9719\n",
      "Epoch 83/100\n",
      "6/6 [==============================] - 0s 49ms/step - loss: 0.0662 - accuracy: 0.9703 - val_loss: 0.0642 - val_accuracy: 0.9719\n",
      "Epoch 84/100\n",
      "6/6 [==============================] - 0s 48ms/step - loss: 0.0631 - accuracy: 0.9722 - val_loss: 0.0637 - val_accuracy: 0.9702\n",
      "Epoch 85/100\n",
      "6/6 [==============================] - 0s 48ms/step - loss: 0.0620 - accuracy: 0.9700 - val_loss: 0.0632 - val_accuracy: 0.9695\n",
      "Epoch 86/100\n",
      "6/6 [==============================] - 0s 49ms/step - loss: 0.0609 - accuracy: 0.9714 - val_loss: 0.0687 - val_accuracy: 0.9691\n",
      "Epoch 87/100\n",
      "6/6 [==============================] - 0s 50ms/step - loss: 0.0598 - accuracy: 0.9723 - val_loss: 0.0626 - val_accuracy: 0.9702\n",
      "Epoch 88/100\n",
      "6/6 [==============================] - 0s 50ms/step - loss: 0.0621 - accuracy: 0.9703 - val_loss: 0.0622 - val_accuracy: 0.9707\n",
      "Epoch 89/100\n",
      "6/6 [==============================] - 0s 52ms/step - loss: 0.0603 - accuracy: 0.9718 - val_loss: 0.0615 - val_accuracy: 0.9713\n",
      "Epoch 90/100\n",
      "6/6 [==============================] - 0s 49ms/step - loss: 0.0601 - accuracy: 0.9724 - val_loss: 0.0605 - val_accuracy: 0.9721\n",
      "Epoch 91/100\n",
      "6/6 [==============================] - 0s 48ms/step - loss: 0.0597 - accuracy: 0.9722 - val_loss: 0.0600 - val_accuracy: 0.9725\n",
      "Epoch 92/100\n",
      "6/6 [==============================] - 0s 50ms/step - loss: 0.0599 - accuracy: 0.9719 - val_loss: 0.0601 - val_accuracy: 0.9718\n",
      "Epoch 93/100\n",
      "6/6 [==============================] - 0s 49ms/step - loss: 0.0592 - accuracy: 0.9718 - val_loss: 0.0608 - val_accuracy: 0.9710\n",
      "Epoch 94/100\n",
      "6/6 [==============================] - 0s 50ms/step - loss: 0.0591 - accuracy: 0.9717 - val_loss: 0.0624 - val_accuracy: 0.9707\n",
      "Epoch 95/100\n",
      "6/6 [==============================] - 0s 49ms/step - loss: 0.0684 - accuracy: 0.9691 - val_loss: 0.0644 - val_accuracy: 0.9700\n",
      "Epoch 96/100\n",
      "6/6 [==============================] - 0s 48ms/step - loss: 0.0616 - accuracy: 0.9708 - val_loss: 0.0627 - val_accuracy: 0.9715\n",
      "Epoch 97/100\n",
      "6/6 [==============================] - 0s 48ms/step - loss: 0.0620 - accuracy: 0.9716 - val_loss: 0.0609 - val_accuracy: 0.9731\n",
      "Epoch 98/100\n",
      "6/6 [==============================] - 0s 49ms/step - loss: 0.0600 - accuracy: 0.9722 - val_loss: 0.0598 - val_accuracy: 0.9732\n",
      "Epoch 99/100\n",
      "6/6 [==============================] - 0s 49ms/step - loss: 0.0581 - accuracy: 0.9734 - val_loss: 0.0592 - val_accuracy: 0.9727\n",
      "Epoch 100/100\n",
      "6/6 [==============================] - 0s 51ms/step - loss: 0.0567 - accuracy: 0.9739 - val_loss: 0.0582 - val_accuracy: 0.9732\n"
     ]
    },
    {
     "data": {
      "text/plain": [
       "<tensorflow.python.keras.callbacks.History at 0x2091e85db08>"
      ]
     },
     "execution_count": 17,
     "metadata": {},
     "output_type": "execute_result"
    }
   ],
   "source": [
    "adam = Adam(lr=0.001)\n",
    "#chk = ModelCheckpoint('best_model_pkl', monitor='val_accuracy', save_best_only=True, mode='max', verbose=1)\n",
    "model.compile(loss='binary_crossentropy', optimizer=adam, metrics=['accuracy'])\n",
    "model.fit(X_train, y_train, epochs=n_epochs, batch_size=128, validation_data=(X_val,y_val))"
   ]
  },
  {
   "cell_type": "markdown",
   "metadata": {},
   "source": [
    "### Some graphics of training/validation curves"
   ]
  },
  {
   "cell_type": "code",
   "execution_count": 18,
   "metadata": {},
   "outputs": [
    {
     "data": {
      "image/png": "[encoded data removed]",
      "text/plain": [
       "<Figure size 432x288 with 1 Axes>"
      ]
     },
     "metadata": {
      "needs_background": "light"
     },
     "output_type": "display_data"
    }
   ],
   "source": [
    "plt.figure()\n",
    "plt.plot(np.arange(n_epochs),model.history.history['loss'],  label='training_loss')\n",
    "plt.plot(np.arange(n_epochs),model.history.history['val_loss'],  label='val_loss')\n",
    "plt.legend()\n",
    "plt.title('Loss')\n",
    "plt.show()"
   ]
  },
  {
   "cell_type": "code",
   "execution_count": 19,
   "metadata": {},
   "outputs": [
    {
     "data": {
      "image/png": "[encoded data removed]",
      "text/plain": [
       "<Figure size 432x288 with 1 Axes>"
      ]
     },
     "metadata": {
      "needs_background": "light"
     },
     "output_type": "display_data"
    }
   ],
   "source": [
    "plt.figure()\n",
    "plt.plot(np.arange(n_epochs),model.history.history['accuracy'],  label='training_accuracy')\n",
    "plt.plot(np.arange(n_epochs),model.history.history['val_accuracy'],  label='val_accuracy')\n",
    "plt.legend()\n",
    "plt.title('Accuracy')\n",
    "plt.show()"
   ]
  },
  {
   "cell_type": "markdown",
   "metadata": {},
   "source": [
    "### PART 2 Multiclassification problem (diffusion, subdiffusion, superdiffusion)"
   ]
  },
  {
   "cell_type": "code",
   "execution_count": 4,
   "metadata": {},
   "outputs": [],
   "source": [
    "df_1 = pd.read_csv('dataset_fbm_target_diff.csv',header=None)\n",
    "df_2 = pd.read_csv('dataset_fbm_target_supdiff.csv', header=None)\n",
    "df_3 = pd.read_csv('dataset_fbm_target_subdiff.csv', header=None)"
   ]
  },
  {
   "cell_type": "code",
   "execution_count": 5,
   "metadata": {},
   "outputs": [
    {
     "data": {
      "text/html": [
       "<div>\n",
       "<style scoped>\n",
       "    .dataframe tbody tr th:only-of-type {\n",
       "        vertical-align: middle;\n",
       "    }\n",
       "\n",
       "    .dataframe tbody tr th {\n",
       "        vertical-align: top;\n",
       "    }\n",
       "\n",
       "    .dataframe thead th {\n",
       "        text-align: right;\n",
       "    }\n",
       "</style>\n",
       "<table border=\"1\" class=\"dataframe\">\n",
       "  <thead>\n",
       "    <tr style=\"text-align: right;\">\n",
       "      <th></th>\n",
       "      <th>0</th>\n",
       "      <th>1</th>\n",
       "      <th>2</th>\n",
       "      <th>3</th>\n",
       "      <th>4</th>\n",
       "      <th>5</th>\n",
       "      <th>6</th>\n",
       "      <th>7</th>\n",
       "      <th>8</th>\n",
       "      <th>9</th>\n",
       "      <th>...</th>\n",
       "      <th>90</th>\n",
       "      <th>91</th>\n",
       "      <th>92</th>\n",
       "      <th>93</th>\n",
       "      <th>94</th>\n",
       "      <th>95</th>\n",
       "      <th>96</th>\n",
       "      <th>97</th>\n",
       "      <th>98</th>\n",
       "      <th>99</th>\n",
       "    </tr>\n",
       "  </thead>\n",
       "  <tbody>\n",
       "    <tr>\n",
       "      <th>0</th>\n",
       "      <td>0.0</td>\n",
       "      <td>0.082510</td>\n",
       "      <td>0.086568</td>\n",
       "      <td>0.255690</td>\n",
       "      <td>0.383855</td>\n",
       "      <td>0.337089</td>\n",
       "      <td>0.376000</td>\n",
       "      <td>0.397869</td>\n",
       "      <td>0.514333</td>\n",
       "      <td>0.352712</td>\n",
       "      <td>...</td>\n",
       "      <td>1.285643</td>\n",
       "      <td>1.274488</td>\n",
       "      <td>1.496116</td>\n",
       "      <td>1.471009</td>\n",
       "      <td>1.553893</td>\n",
       "      <td>1.507774</td>\n",
       "      <td>1.601450</td>\n",
       "      <td>1.574640</td>\n",
       "      <td>1.837744</td>\n",
       "      <td>0.0</td>\n",
       "    </tr>\n",
       "    <tr>\n",
       "      <th>1</th>\n",
       "      <td>0.0</td>\n",
       "      <td>0.003041</td>\n",
       "      <td>-0.005935</td>\n",
       "      <td>-0.051895</td>\n",
       "      <td>0.074328</td>\n",
       "      <td>-0.087612</td>\n",
       "      <td>-0.038786</td>\n",
       "      <td>-0.023029</td>\n",
       "      <td>0.032464</td>\n",
       "      <td>0.132751</td>\n",
       "      <td>...</td>\n",
       "      <td>-0.136516</td>\n",
       "      <td>-0.182775</td>\n",
       "      <td>-0.160557</td>\n",
       "      <td>-0.131670</td>\n",
       "      <td>-0.179929</td>\n",
       "      <td>-0.218621</td>\n",
       "      <td>-0.120250</td>\n",
       "      <td>-0.200790</td>\n",
       "      <td>-0.160362</td>\n",
       "      <td>0.0</td>\n",
       "    </tr>\n",
       "    <tr>\n",
       "      <th>2</th>\n",
       "      <td>0.0</td>\n",
       "      <td>-0.019594</td>\n",
       "      <td>-0.165254</td>\n",
       "      <td>-0.006617</td>\n",
       "      <td>-0.147199</td>\n",
       "      <td>-0.170065</td>\n",
       "      <td>-0.205338</td>\n",
       "      <td>-0.389645</td>\n",
       "      <td>-0.567495</td>\n",
       "      <td>-0.316423</td>\n",
       "      <td>...</td>\n",
       "      <td>0.100821</td>\n",
       "      <td>0.097799</td>\n",
       "      <td>0.188756</td>\n",
       "      <td>0.158453</td>\n",
       "      <td>0.237068</td>\n",
       "      <td>0.149605</td>\n",
       "      <td>0.174923</td>\n",
       "      <td>0.130132</td>\n",
       "      <td>0.094157</td>\n",
       "      <td>0.0</td>\n",
       "    </tr>\n",
       "    <tr>\n",
       "      <th>3</th>\n",
       "      <td>0.0</td>\n",
       "      <td>-0.074867</td>\n",
       "      <td>-0.111489</td>\n",
       "      <td>-0.085473</td>\n",
       "      <td>-0.264691</td>\n",
       "      <td>-0.216136</td>\n",
       "      <td>-0.150480</td>\n",
       "      <td>-0.099763</td>\n",
       "      <td>-0.154332</td>\n",
       "      <td>-0.015472</td>\n",
       "      <td>...</td>\n",
       "      <td>0.129153</td>\n",
       "      <td>0.174248</td>\n",
       "      <td>0.061091</td>\n",
       "      <td>0.084727</td>\n",
       "      <td>0.090232</td>\n",
       "      <td>0.076863</td>\n",
       "      <td>0.185706</td>\n",
       "      <td>0.134054</td>\n",
       "      <td>-0.066915</td>\n",
       "      <td>0.0</td>\n",
       "    </tr>\n",
       "    <tr>\n",
       "      <th>4</th>\n",
       "      <td>0.0</td>\n",
       "      <td>-0.085939</td>\n",
       "      <td>-0.087235</td>\n",
       "      <td>-0.015803</td>\n",
       "      <td>0.098593</td>\n",
       "      <td>0.379073</td>\n",
       "      <td>0.364475</td>\n",
       "      <td>0.345635</td>\n",
       "      <td>0.349535</td>\n",
       "      <td>0.298660</td>\n",
       "      <td>...</td>\n",
       "      <td>0.084711</td>\n",
       "      <td>0.165619</td>\n",
       "      <td>0.238479</td>\n",
       "      <td>0.314082</td>\n",
       "      <td>0.353113</td>\n",
       "      <td>0.280368</td>\n",
       "      <td>0.436145</td>\n",
       "      <td>0.429452</td>\n",
       "      <td>0.262821</td>\n",
       "      <td>0.0</td>\n",
       "    </tr>\n",
       "  </tbody>\n",
       "</table>\n",
       "<p>5 rows × 100 columns</p>\n",
       "</div>"
      ],
      "text/plain": [
       "    0         1         2         3         4         5         6         7   \\\n",
       "0  0.0  0.082510  0.086568  0.255690  0.383855  0.337089  0.376000  0.397869   \n",
       "1  0.0  0.003041 -0.005935 -0.051895  0.074328 -0.087612 -0.038786 -0.023029   \n",
       "2  0.0 -0.019594 -0.165254 -0.006617 -0.147199 -0.170065 -0.205338 -0.389645   \n",
       "3  0.0 -0.074867 -0.111489 -0.085473 -0.264691 -0.216136 -0.150480 -0.099763   \n",
       "4  0.0 -0.085939 -0.087235 -0.015803  0.098593  0.379073  0.364475  0.345635   \n",
       "\n",
       "         8         9   ...        90        91        92        93        94  \\\n",
       "0  0.514333  0.352712  ...  1.285643  1.274488  1.496116  1.471009  1.553893   \n",
       "1  0.032464  0.132751  ... -0.136516 -0.182775 -0.160557 -0.131670 -0.179929   \n",
       "2 -0.567495 -0.316423  ...  0.100821  0.097799  0.188756  0.158453  0.237068   \n",
       "3 -0.154332 -0.015472  ...  0.129153  0.174248  0.061091  0.084727  0.090232   \n",
       "4  0.349535  0.298660  ...  0.084711  0.165619  0.238479  0.314082  0.353113   \n",
       "\n",
       "         95        96        97        98   99  \n",
       "0  1.507774  1.601450  1.574640  1.837744  0.0  \n",
       "1 -0.218621 -0.120250 -0.200790 -0.160362  0.0  \n",
       "2  0.149605  0.174923  0.130132  0.094157  0.0  \n",
       "3  0.076863  0.185706  0.134054 -0.066915  0.0  \n",
       "4  0.280368  0.436145  0.429452  0.262821  0.0  \n",
       "\n",
       "[5 rows x 100 columns]"
      ]
     },
     "execution_count": 5,
     "metadata": {},
     "output_type": "execute_result"
    }
   ],
   "source": [
    "df_1.head(5)"
   ]
  },
  {
   "cell_type": "code",
   "execution_count": 6,
   "metadata": {
    "scrolled": true
   },
   "outputs": [
    {
     "data": {
      "text/html": [
       "<div>\n",
       "<style scoped>\n",
       "    .dataframe tbody tr th:only-of-type {\n",
       "        vertical-align: middle;\n",
       "    }\n",
       "\n",
       "    .dataframe tbody tr th {\n",
       "        vertical-align: top;\n",
       "    }\n",
       "\n",
       "    .dataframe thead th {\n",
       "        text-align: right;\n",
       "    }\n",
       "</style>\n",
       "<table border=\"1\" class=\"dataframe\">\n",
       "  <thead>\n",
       "    <tr style=\"text-align: right;\">\n",
       "      <th></th>\n",
       "      <th>0</th>\n",
       "      <th>1</th>\n",
       "      <th>2</th>\n",
       "      <th>3</th>\n",
       "      <th>4</th>\n",
       "      <th>5</th>\n",
       "      <th>6</th>\n",
       "      <th>7</th>\n",
       "      <th>8</th>\n",
       "      <th>9</th>\n",
       "      <th>...</th>\n",
       "      <th>90</th>\n",
       "      <th>91</th>\n",
       "      <th>92</th>\n",
       "      <th>93</th>\n",
       "      <th>94</th>\n",
       "      <th>95</th>\n",
       "      <th>96</th>\n",
       "      <th>97</th>\n",
       "      <th>98</th>\n",
       "      <th>99</th>\n",
       "    </tr>\n",
       "  </thead>\n",
       "  <tbody>\n",
       "    <tr>\n",
       "      <th>0</th>\n",
       "      <td>0.0</td>\n",
       "      <td>0.082510</td>\n",
       "      <td>0.086568</td>\n",
       "      <td>0.255690</td>\n",
       "      <td>0.383855</td>\n",
       "      <td>0.337089</td>\n",
       "      <td>0.376000</td>\n",
       "      <td>0.397869</td>\n",
       "      <td>0.514333</td>\n",
       "      <td>0.352712</td>\n",
       "      <td>...</td>\n",
       "      <td>1.285643</td>\n",
       "      <td>1.274488</td>\n",
       "      <td>1.496116</td>\n",
       "      <td>1.471009</td>\n",
       "      <td>1.553893</td>\n",
       "      <td>1.507774</td>\n",
       "      <td>1.601450</td>\n",
       "      <td>1.574640</td>\n",
       "      <td>1.837744</td>\n",
       "      <td>0.0</td>\n",
       "    </tr>\n",
       "    <tr>\n",
       "      <th>1</th>\n",
       "      <td>0.0</td>\n",
       "      <td>0.003041</td>\n",
       "      <td>-0.005935</td>\n",
       "      <td>-0.051895</td>\n",
       "      <td>0.074328</td>\n",
       "      <td>-0.087612</td>\n",
       "      <td>-0.038786</td>\n",
       "      <td>-0.023029</td>\n",
       "      <td>0.032464</td>\n",
       "      <td>0.132751</td>\n",
       "      <td>...</td>\n",
       "      <td>-0.136516</td>\n",
       "      <td>-0.182775</td>\n",
       "      <td>-0.160557</td>\n",
       "      <td>-0.131670</td>\n",
       "      <td>-0.179929</td>\n",
       "      <td>-0.218621</td>\n",
       "      <td>-0.120250</td>\n",
       "      <td>-0.200790</td>\n",
       "      <td>-0.160362</td>\n",
       "      <td>0.0</td>\n",
       "    </tr>\n",
       "    <tr>\n",
       "      <th>2</th>\n",
       "      <td>0.0</td>\n",
       "      <td>-0.019594</td>\n",
       "      <td>-0.165254</td>\n",
       "      <td>-0.006617</td>\n",
       "      <td>-0.147199</td>\n",
       "      <td>-0.170065</td>\n",
       "      <td>-0.205338</td>\n",
       "      <td>-0.389645</td>\n",
       "      <td>-0.567495</td>\n",
       "      <td>-0.316423</td>\n",
       "      <td>...</td>\n",
       "      <td>0.100821</td>\n",
       "      <td>0.097799</td>\n",
       "      <td>0.188756</td>\n",
       "      <td>0.158453</td>\n",
       "      <td>0.237068</td>\n",
       "      <td>0.149605</td>\n",
       "      <td>0.174923</td>\n",
       "      <td>0.130132</td>\n",
       "      <td>0.094157</td>\n",
       "      <td>0.0</td>\n",
       "    </tr>\n",
       "    <tr>\n",
       "      <th>3</th>\n",
       "      <td>0.0</td>\n",
       "      <td>-0.074867</td>\n",
       "      <td>-0.111489</td>\n",
       "      <td>-0.085473</td>\n",
       "      <td>-0.264691</td>\n",
       "      <td>-0.216136</td>\n",
       "      <td>-0.150480</td>\n",
       "      <td>-0.099763</td>\n",
       "      <td>-0.154332</td>\n",
       "      <td>-0.015472</td>\n",
       "      <td>...</td>\n",
       "      <td>0.129153</td>\n",
       "      <td>0.174248</td>\n",
       "      <td>0.061091</td>\n",
       "      <td>0.084727</td>\n",
       "      <td>0.090232</td>\n",
       "      <td>0.076863</td>\n",
       "      <td>0.185706</td>\n",
       "      <td>0.134054</td>\n",
       "      <td>-0.066915</td>\n",
       "      <td>0.0</td>\n",
       "    </tr>\n",
       "    <tr>\n",
       "      <th>4</th>\n",
       "      <td>0.0</td>\n",
       "      <td>-0.085939</td>\n",
       "      <td>-0.087235</td>\n",
       "      <td>-0.015803</td>\n",
       "      <td>0.098593</td>\n",
       "      <td>0.379073</td>\n",
       "      <td>0.364475</td>\n",
       "      <td>0.345635</td>\n",
       "      <td>0.349535</td>\n",
       "      <td>0.298660</td>\n",
       "      <td>...</td>\n",
       "      <td>0.084711</td>\n",
       "      <td>0.165619</td>\n",
       "      <td>0.238479</td>\n",
       "      <td>0.314082</td>\n",
       "      <td>0.353113</td>\n",
       "      <td>0.280368</td>\n",
       "      <td>0.436145</td>\n",
       "      <td>0.429452</td>\n",
       "      <td>0.262821</td>\n",
       "      <td>0.0</td>\n",
       "    </tr>\n",
       "  </tbody>\n",
       "</table>\n",
       "<p>5 rows × 100 columns</p>\n",
       "</div>"
      ],
      "text/plain": [
       "    0         1         2         3         4         5         6         7   \\\n",
       "0  0.0  0.082510  0.086568  0.255690  0.383855  0.337089  0.376000  0.397869   \n",
       "1  0.0  0.003041 -0.005935 -0.051895  0.074328 -0.087612 -0.038786 -0.023029   \n",
       "2  0.0 -0.019594 -0.165254 -0.006617 -0.147199 -0.170065 -0.205338 -0.389645   \n",
       "3  0.0 -0.074867 -0.111489 -0.085473 -0.264691 -0.216136 -0.150480 -0.099763   \n",
       "4  0.0 -0.085939 -0.087235 -0.015803  0.098593  0.379073  0.364475  0.345635   \n",
       "\n",
       "         8         9   ...        90        91        92        93        94  \\\n",
       "0  0.514333  0.352712  ...  1.285643  1.274488  1.496116  1.471009  1.553893   \n",
       "1  0.032464  0.132751  ... -0.136516 -0.182775 -0.160557 -0.131670 -0.179929   \n",
       "2 -0.567495 -0.316423  ...  0.100821  0.097799  0.188756  0.158453  0.237068   \n",
       "3 -0.154332 -0.015472  ...  0.129153  0.174248  0.061091  0.084727  0.090232   \n",
       "4  0.349535  0.298660  ...  0.084711  0.165619  0.238479  0.314082  0.353113   \n",
       "\n",
       "         95        96        97        98   99  \n",
       "0  1.507774  1.601450  1.574640  1.837744  0.0  \n",
       "1 -0.218621 -0.120250 -0.200790 -0.160362  0.0  \n",
       "2  0.149605  0.174923  0.130132  0.094157  0.0  \n",
       "3  0.076863  0.185706  0.134054 -0.066915  0.0  \n",
       "4  0.280368  0.436145  0.429452  0.262821  0.0  \n",
       "\n",
       "[5 rows x 100 columns]"
      ]
     },
     "execution_count": 6,
     "metadata": {},
     "output_type": "execute_result"
    }
   ],
   "source": [
    "df_ = df_2.append(df_3)\n",
    "df_ = df_1.append(df_)\n",
    "df_.head(5)"
   ]
  },
  {
   "cell_type": "code",
   "execution_count": 7,
   "metadata": {},
   "outputs": [
    {
     "data": {
      "text/html": [
       "<div>\n",
       "<style scoped>\n",
       "    .dataframe tbody tr th:only-of-type {\n",
       "        vertical-align: middle;\n",
       "    }\n",
       "\n",
       "    .dataframe tbody tr th {\n",
       "        vertical-align: top;\n",
       "    }\n",
       "\n",
       "    .dataframe thead th {\n",
       "        text-align: right;\n",
       "    }\n",
       "</style>\n",
       "<table border=\"1\" class=\"dataframe\">\n",
       "  <thead>\n",
       "    <tr style=\"text-align: right;\">\n",
       "      <th></th>\n",
       "      <th>0</th>\n",
       "      <th>1</th>\n",
       "      <th>2</th>\n",
       "      <th>3</th>\n",
       "      <th>4</th>\n",
       "      <th>5</th>\n",
       "      <th>6</th>\n",
       "      <th>7</th>\n",
       "      <th>8</th>\n",
       "      <th>9</th>\n",
       "      <th>...</th>\n",
       "      <th>89</th>\n",
       "      <th>90</th>\n",
       "      <th>91</th>\n",
       "      <th>92</th>\n",
       "      <th>93</th>\n",
       "      <th>94</th>\n",
       "      <th>95</th>\n",
       "      <th>96</th>\n",
       "      <th>97</th>\n",
       "      <th>98</th>\n",
       "    </tr>\n",
       "  </thead>\n",
       "  <tbody>\n",
       "    <tr>\n",
       "      <th>0</th>\n",
       "      <td>0.0</td>\n",
       "      <td>0.082510</td>\n",
       "      <td>0.086568</td>\n",
       "      <td>0.255690</td>\n",
       "      <td>0.383855</td>\n",
       "      <td>0.337089</td>\n",
       "      <td>0.376000</td>\n",
       "      <td>0.397869</td>\n",
       "      <td>0.514333</td>\n",
       "      <td>0.352712</td>\n",
       "      <td>...</td>\n",
       "      <td>1.387027</td>\n",
       "      <td>1.285643</td>\n",
       "      <td>1.274488</td>\n",
       "      <td>1.496116</td>\n",
       "      <td>1.471009</td>\n",
       "      <td>1.553893</td>\n",
       "      <td>1.507774</td>\n",
       "      <td>1.601450</td>\n",
       "      <td>1.574640</td>\n",
       "      <td>1.837744</td>\n",
       "    </tr>\n",
       "    <tr>\n",
       "      <th>1</th>\n",
       "      <td>0.0</td>\n",
       "      <td>0.003041</td>\n",
       "      <td>-0.005935</td>\n",
       "      <td>-0.051895</td>\n",
       "      <td>0.074328</td>\n",
       "      <td>-0.087612</td>\n",
       "      <td>-0.038786</td>\n",
       "      <td>-0.023029</td>\n",
       "      <td>0.032464</td>\n",
       "      <td>0.132751</td>\n",
       "      <td>...</td>\n",
       "      <td>-0.073086</td>\n",
       "      <td>-0.136516</td>\n",
       "      <td>-0.182775</td>\n",
       "      <td>-0.160557</td>\n",
       "      <td>-0.131670</td>\n",
       "      <td>-0.179929</td>\n",
       "      <td>-0.218621</td>\n",
       "      <td>-0.120250</td>\n",
       "      <td>-0.200790</td>\n",
       "      <td>-0.160362</td>\n",
       "    </tr>\n",
       "    <tr>\n",
       "      <th>2</th>\n",
       "      <td>0.0</td>\n",
       "      <td>-0.019594</td>\n",
       "      <td>-0.165254</td>\n",
       "      <td>-0.006617</td>\n",
       "      <td>-0.147199</td>\n",
       "      <td>-0.170065</td>\n",
       "      <td>-0.205338</td>\n",
       "      <td>-0.389645</td>\n",
       "      <td>-0.567495</td>\n",
       "      <td>-0.316423</td>\n",
       "      <td>...</td>\n",
       "      <td>-0.095642</td>\n",
       "      <td>0.100821</td>\n",
       "      <td>0.097799</td>\n",
       "      <td>0.188756</td>\n",
       "      <td>0.158453</td>\n",
       "      <td>0.237068</td>\n",
       "      <td>0.149605</td>\n",
       "      <td>0.174923</td>\n",
       "      <td>0.130132</td>\n",
       "      <td>0.094157</td>\n",
       "    </tr>\n",
       "    <tr>\n",
       "      <th>3</th>\n",
       "      <td>0.0</td>\n",
       "      <td>-0.074867</td>\n",
       "      <td>-0.111489</td>\n",
       "      <td>-0.085473</td>\n",
       "      <td>-0.264691</td>\n",
       "      <td>-0.216136</td>\n",
       "      <td>-0.150480</td>\n",
       "      <td>-0.099763</td>\n",
       "      <td>-0.154332</td>\n",
       "      <td>-0.015472</td>\n",
       "      <td>...</td>\n",
       "      <td>-0.043998</td>\n",
       "      <td>0.129153</td>\n",
       "      <td>0.174248</td>\n",
       "      <td>0.061091</td>\n",
       "      <td>0.084727</td>\n",
       "      <td>0.090232</td>\n",
       "      <td>0.076863</td>\n",
       "      <td>0.185706</td>\n",
       "      <td>0.134054</td>\n",
       "      <td>-0.066915</td>\n",
       "    </tr>\n",
       "    <tr>\n",
       "      <th>4</th>\n",
       "      <td>0.0</td>\n",
       "      <td>-0.085939</td>\n",
       "      <td>-0.087235</td>\n",
       "      <td>-0.015803</td>\n",
       "      <td>0.098593</td>\n",
       "      <td>0.379073</td>\n",
       "      <td>0.364475</td>\n",
       "      <td>0.345635</td>\n",
       "      <td>0.349535</td>\n",
       "      <td>0.298660</td>\n",
       "      <td>...</td>\n",
       "      <td>0.078549</td>\n",
       "      <td>0.084711</td>\n",
       "      <td>0.165619</td>\n",
       "      <td>0.238479</td>\n",
       "      <td>0.314082</td>\n",
       "      <td>0.353113</td>\n",
       "      <td>0.280368</td>\n",
       "      <td>0.436145</td>\n",
       "      <td>0.429452</td>\n",
       "      <td>0.262821</td>\n",
       "    </tr>\n",
       "  </tbody>\n",
       "</table>\n",
       "<p>5 rows × 99 columns</p>\n",
       "</div>"
      ],
      "text/plain": [
       "    0         1         2         3         4         5         6         7   \\\n",
       "0  0.0  0.082510  0.086568  0.255690  0.383855  0.337089  0.376000  0.397869   \n",
       "1  0.0  0.003041 -0.005935 -0.051895  0.074328 -0.087612 -0.038786 -0.023029   \n",
       "2  0.0 -0.019594 -0.165254 -0.006617 -0.147199 -0.170065 -0.205338 -0.389645   \n",
       "3  0.0 -0.074867 -0.111489 -0.085473 -0.264691 -0.216136 -0.150480 -0.099763   \n",
       "4  0.0 -0.085939 -0.087235 -0.015803  0.098593  0.379073  0.364475  0.345635   \n",
       "\n",
       "         8         9   ...        89        90        91        92        93  \\\n",
       "0  0.514333  0.352712  ...  1.387027  1.285643  1.274488  1.496116  1.471009   \n",
       "1  0.032464  0.132751  ... -0.073086 -0.136516 -0.182775 -0.160557 -0.131670   \n",
       "2 -0.567495 -0.316423  ... -0.095642  0.100821  0.097799  0.188756  0.158453   \n",
       "3 -0.154332 -0.015472  ... -0.043998  0.129153  0.174248  0.061091  0.084727   \n",
       "4  0.349535  0.298660  ...  0.078549  0.084711  0.165619  0.238479  0.314082   \n",
       "\n",
       "         94        95        96        97        98  \n",
       "0  1.553893  1.507774  1.601450  1.574640  1.837744  \n",
       "1 -0.179929 -0.218621 -0.120250 -0.200790 -0.160362  \n",
       "2  0.237068  0.149605  0.174923  0.130132  0.094157  \n",
       "3  0.090232  0.076863  0.185706  0.134054 -0.066915  \n",
       "4  0.353113  0.280368  0.436145  0.429452  0.262821  \n",
       "\n",
       "[5 rows x 99 columns]"
      ]
     },
     "execution_count": 7,
     "metadata": {},
     "output_type": "execute_result"
    }
   ],
   "source": [
    "y_ = df_[99]\n",
    "df_.drop(columns=[99], inplace=True)\n",
    "df_.head()"
   ]
  },
  {
   "cell_type": "code",
   "execution_count": 8,
   "metadata": {},
   "outputs": [],
   "source": [
    "Xtrain, Xval, ytrain, yval = train_test_split(df_, y_, test_size=0.25, random_state=42)"
   ]
  },
  {
   "cell_type": "code",
   "execution_count": 9,
   "metadata": {},
   "outputs": [
    {
     "data": {
      "text/plain": [
       "((2250, 99), (750, 99), (2250,), (750,))"
      ]
     },
     "execution_count": 9,
     "metadata": {},
     "output_type": "execute_result"
    }
   ],
   "source": [
    "Xtrain.shape, Xval.shape, ytrain.shape, yval.shape"
   ]
  },
  {
   "cell_type": "code",
   "execution_count": 10,
   "metadata": {},
   "outputs": [
    {
     "data": {
      "text/plain": [
       "((2250, 99, 1), (750, 99, 1))"
      ]
     },
     "execution_count": 10,
     "metadata": {},
     "output_type": "execute_result"
    }
   ],
   "source": [
    "Xtrain = np.expand_dims(Xtrain, axis=2)\n",
    "Xval = np.expand_dims(Xval, axis=2)\n",
    "Xtrain.shape, Xval.shape"
   ]
  },
  {
   "cell_type": "code",
   "execution_count": 11,
   "metadata": {},
   "outputs": [],
   "source": [
    "NUM_CLASSES = 3"
   ]
  },
  {
   "cell_type": "code",
   "execution_count": 12,
   "metadata": {},
   "outputs": [],
   "source": [
    "ytrain = tf.one_hot(ytrain, NUM_CLASSES)\n",
    "yval = tf.one_hot(yval, NUM_CLASSES)"
   ]
  },
  {
   "cell_type": "markdown",
   "metadata": {},
   "source": [
    "### Model"
   ]
  },
  {
   "cell_type": "code",
   "execution_count": 33,
   "metadata": {},
   "outputs": [],
   "source": [
    "from tensorflow.keras.layers import Flatten\n",
    "from tensorflow.keras.activations import tanh"
   ]
  },
  {
   "cell_type": "code",
   "execution_count": 36,
   "metadata": {},
   "outputs": [],
   "source": [
    "model2 = Sequential()\n",
    "model2.add(LSTM(64, input_shape=(99, 1), return_sequences=True, activation=tanh))\n",
    "#model2.add(Dropout(0.2))\n",
    "#model2.add(LSTM(64, return_sequences=True, activation=tanh))\n",
    "model2.add(Flatten())\n",
    "model2.add(Dense(3, activation='softmax'))"
   ]
  },
  {
   "cell_type": "code",
   "execution_count": 37,
   "metadata": {},
   "outputs": [
    {
     "name": "stdout",
     "output_type": "stream",
     "text": [
      "Model: \"sequential_4\"\n",
      "_________________________________________________________________\n",
      "Layer (type)                 Output Shape              Param #   \n",
      "=================================================================\n",
      "lstm_5 (LSTM)                (None, 99, 64)            16896     \n",
      "_________________________________________________________________\n",
      "flatten_3 (Flatten)          (None, 6336)              0         \n",
      "_________________________________________________________________\n",
      "dense_4 (Dense)              (None, 3)                 19011     \n",
      "=================================================================\n",
      "Total params: 35,907\n",
      "Trainable params: 35,907\n",
      "Non-trainable params: 0\n",
      "_________________________________________________________________\n"
     ]
    }
   ],
   "source": [
    "model2.summary()"
   ]
  },
  {
   "cell_type": "markdown",
   "metadata": {},
   "source": [
    "## Training"
   ]
  },
  {
   "cell_type": "code",
   "execution_count": 38,
   "metadata": {},
   "outputs": [
    {
     "name": "stdout",
     "output_type": "stream",
     "text": [
      "Epoch 1/100\n",
      "36/36 [==============================] - 1s 14ms/step - loss: 1.1116 - accuracy: 0.3559 - val_loss: 1.0552 - val_accuracy: 0.4813\n",
      "Epoch 2/100\n",
      "36/36 [==============================] - 0s 7ms/step - loss: 1.0128 - accuracy: 0.4859 - val_loss: 0.9425 - val_accuracy: 0.5227\n",
      "Epoch 3/100\n",
      "36/36 [==============================] - 0s 7ms/step - loss: 0.9154 - accuracy: 0.5430 - val_loss: 0.8544 - val_accuracy: 0.5747\n",
      "Epoch 4/100\n",
      "36/36 [==============================] - 0s 7ms/step - loss: 0.8628 - accuracy: 0.5789 - val_loss: 0.7333 - val_accuracy: 0.6200\n",
      "Epoch 5/100\n",
      "36/36 [==============================] - 0s 7ms/step - loss: 0.6337 - accuracy: 0.6933 - val_loss: 0.4376 - val_accuracy: 0.7973\n",
      "Epoch 6/100\n",
      "36/36 [==============================] - 0s 7ms/step - loss: 0.4454 - accuracy: 0.8178 - val_loss: 0.3910 - val_accuracy: 0.8240\n",
      "Epoch 7/100\n",
      "36/36 [==============================] - 0s 7ms/step - loss: 0.3357 - accuracy: 0.8609 - val_loss: 0.5282 - val_accuracy: 0.8267\n",
      "Epoch 8/100\n",
      "36/36 [==============================] - 0s 7ms/step - loss: 0.3400 - accuracy: 0.8739 - val_loss: 0.2671 - val_accuracy: 0.9000\n",
      "Epoch 9/100\n",
      "36/36 [==============================] - 0s 7ms/step - loss: 0.2798 - accuracy: 0.8779 - val_loss: 0.1834 - val_accuracy: 0.9347\n",
      "Epoch 10/100\n",
      "36/36 [==============================] - 0s 7ms/step - loss: 0.2144 - accuracy: 0.9246 - val_loss: 0.1229 - val_accuracy: 0.9573\n",
      "Epoch 11/100\n",
      "36/36 [==============================] - 0s 7ms/step - loss: 0.1310 - accuracy: 0.9569 - val_loss: 0.1188 - val_accuracy: 0.9627\n",
      "Epoch 12/100\n",
      "36/36 [==============================] - 0s 7ms/step - loss: 0.1538 - accuracy: 0.9467 - val_loss: 0.0934 - val_accuracy: 0.9667\n",
      "Epoch 13/100\n",
      "36/36 [==============================] - 0s 7ms/step - loss: 0.1439 - accuracy: 0.9469 - val_loss: 0.1384 - val_accuracy: 0.9533\n",
      "Epoch 14/100\n",
      "36/36 [==============================] - 0s 7ms/step - loss: 0.1144 - accuracy: 0.9684 - val_loss: 0.0840 - val_accuracy: 0.9787\n",
      "Epoch 15/100\n",
      "36/36 [==============================] - 0s 7ms/step - loss: 0.0765 - accuracy: 0.9774 - val_loss: 0.0555 - val_accuracy: 0.9853\n",
      "Epoch 16/100\n",
      "36/36 [==============================] - 0s 7ms/step - loss: 0.0711 - accuracy: 0.9767 - val_loss: 0.1246 - val_accuracy: 0.9507\n",
      "Epoch 17/100\n",
      "36/36 [==============================] - 0s 7ms/step - loss: 0.0978 - accuracy: 0.9669 - val_loss: 0.0503 - val_accuracy: 0.9827\n",
      "Epoch 18/100\n",
      "36/36 [==============================] - 0s 7ms/step - loss: 0.0986 - accuracy: 0.9646 - val_loss: 0.0674 - val_accuracy: 0.9800\n",
      "Epoch 19/100\n",
      "36/36 [==============================] - 0s 7ms/step - loss: 0.0512 - accuracy: 0.9855 - val_loss: 0.0405 - val_accuracy: 0.9893\n",
      "Epoch 20/100\n",
      "36/36 [==============================] - 0s 7ms/step - loss: 0.0329 - accuracy: 0.9904 - val_loss: 0.1080 - val_accuracy: 0.9573\n",
      "Epoch 21/100\n",
      "36/36 [==============================] - 0s 7ms/step - loss: 0.0671 - accuracy: 0.9774 - val_loss: 0.0708 - val_accuracy: 0.9760\n",
      "Epoch 22/100\n",
      "36/36 [==============================] - 0s 7ms/step - loss: 0.0428 - accuracy: 0.9862 - val_loss: 0.0439 - val_accuracy: 0.9813\n",
      "Epoch 23/100\n",
      "36/36 [==============================] - 0s 7ms/step - loss: 0.0231 - accuracy: 0.9912 - val_loss: 0.0291 - val_accuracy: 0.9893\n",
      "Epoch 24/100\n",
      "36/36 [==============================] - 0s 7ms/step - loss: 0.0163 - accuracy: 0.9970 - val_loss: 0.0288 - val_accuracy: 0.9893\n",
      "Epoch 25/100\n",
      "36/36 [==============================] - 0s 7ms/step - loss: 0.0395 - accuracy: 0.9871 - val_loss: 0.0511 - val_accuracy: 0.9813\n",
      "Epoch 26/100\n",
      "36/36 [==============================] - 0s 7ms/step - loss: 0.0224 - accuracy: 0.9898 - val_loss: 0.0241 - val_accuracy: 0.9920\n",
      "Epoch 27/100\n",
      "36/36 [==============================] - 0s 7ms/step - loss: 0.0145 - accuracy: 0.9944 - val_loss: 0.0523 - val_accuracy: 0.9733\n",
      "Epoch 28/100\n",
      "36/36 [==============================] - 0s 7ms/step - loss: 0.0214 - accuracy: 0.9927 - val_loss: 0.0332 - val_accuracy: 0.9893\n",
      "Epoch 29/100\n",
      "36/36 [==============================] - 0s 7ms/step - loss: 0.0097 - accuracy: 0.9980 - val_loss: 0.0231 - val_accuracy: 0.9920\n",
      "Epoch 30/100\n",
      "36/36 [==============================] - 0s 7ms/step - loss: 0.0109 - accuracy: 0.9964 - val_loss: 0.0479 - val_accuracy: 0.9813\n",
      "Epoch 31/100\n",
      "36/36 [==============================] - 0s 7ms/step - loss: 0.0185 - accuracy: 0.9932 - val_loss: 0.1641 - val_accuracy: 0.9467\n",
      "Epoch 32/100\n",
      "36/36 [==============================] - 0s 7ms/step - loss: 0.1357 - accuracy: 0.9495 - val_loss: 0.0595 - val_accuracy: 0.9813\n",
      "Epoch 33/100\n",
      "36/36 [==============================] - 0s 7ms/step - loss: 0.0314 - accuracy: 0.9927 - val_loss: 0.0371 - val_accuracy: 0.9880\n",
      "Epoch 34/100\n",
      "36/36 [==============================] - 0s 7ms/step - loss: 0.0150 - accuracy: 0.9972 - val_loss: 0.0309 - val_accuracy: 0.9880\n",
      "Epoch 35/100\n",
      "36/36 [==============================] - 0s 7ms/step - loss: 0.0151 - accuracy: 0.9953 - val_loss: 0.0246 - val_accuracy: 0.9893\n",
      "Epoch 36/100\n",
      "36/36 [==============================] - 0s 7ms/step - loss: 0.0125 - accuracy: 0.9961 - val_loss: 0.0226 - val_accuracy: 0.9947\n",
      "Epoch 37/100\n",
      "36/36 [==============================] - 0s 7ms/step - loss: 0.0332 - accuracy: 0.9888 - val_loss: 0.0264 - val_accuracy: 0.9907\n",
      "Epoch 38/100\n",
      "36/36 [==============================] - 0s 7ms/step - loss: 0.0132 - accuracy: 0.9971 - val_loss: 0.0212 - val_accuracy: 0.9933\n",
      "Epoch 39/100\n",
      "36/36 [==============================] - 0s 10ms/step - loss: 0.0100 - accuracy: 0.9968 - val_loss: 0.0210 - val_accuracy: 0.9933\n",
      "Epoch 40/100\n",
      "36/36 [==============================] - 0s 7ms/step - loss: 0.0090 - accuracy: 0.9984 - val_loss: 0.0212 - val_accuracy: 0.9933\n",
      "Epoch 41/100\n",
      "36/36 [==============================] - 0s 7ms/step - loss: 0.0113 - accuracy: 0.9967 - val_loss: 0.0537 - val_accuracy: 0.9840\n",
      "Epoch 42/100\n",
      "36/36 [==============================] - 0s 7ms/step - loss: 0.0191 - accuracy: 0.9929 - val_loss: 0.0224 - val_accuracy: 0.9947\n",
      "Epoch 43/100\n",
      "36/36 [==============================] - 0s 7ms/step - loss: 0.0147 - accuracy: 0.9942 - val_loss: 0.1061 - val_accuracy: 0.9707\n",
      "Epoch 44/100\n",
      "36/36 [==============================] - 0s 7ms/step - loss: 0.1252 - accuracy: 0.9552 - val_loss: 0.0899 - val_accuracy: 0.9733\n",
      "Epoch 45/100\n",
      "36/36 [==============================] - 0s 7ms/step - loss: 0.0263 - accuracy: 0.9902 - val_loss: 0.0486 - val_accuracy: 0.9827\n",
      "Epoch 46/100\n",
      "36/36 [==============================] - 0s 7ms/step - loss: 0.0114 - accuracy: 0.9964 - val_loss: 0.0267 - val_accuracy: 0.9920\n",
      "Epoch 47/100\n",
      "36/36 [==============================] - 0s 7ms/step - loss: 0.0099 - accuracy: 0.9974 - val_loss: 0.0267 - val_accuracy: 0.9907\n",
      "Epoch 48/100\n",
      "36/36 [==============================] - 0s 7ms/step - loss: 0.0086 - accuracy: 0.9984 - val_loss: 0.0239 - val_accuracy: 0.9920\n",
      "Epoch 49/100\n",
      "36/36 [==============================] - 0s 7ms/step - loss: 0.0067 - accuracy: 0.9983 - val_loss: 0.0223 - val_accuracy: 0.9933\n",
      "Epoch 50/100\n",
      "36/36 [==============================] - 0s 7ms/step - loss: 0.0071 - accuracy: 0.9978 - val_loss: 0.0227 - val_accuracy: 0.9933\n",
      "Epoch 51/100\n",
      "36/36 [==============================] - 0s 7ms/step - loss: 0.0042 - accuracy: 0.9990 - val_loss: 0.0259 - val_accuracy: 0.9933\n",
      "Epoch 52/100\n",
      "36/36 [==============================] - 0s 7ms/step - loss: 0.0086 - accuracy: 0.9982 - val_loss: 0.0204 - val_accuracy: 0.9933\n",
      "Epoch 53/100\n",
      "36/36 [==============================] - 0s 7ms/step - loss: 0.0051 - accuracy: 0.9990 - val_loss: 0.0226 - val_accuracy: 0.9933\n",
      "Epoch 54/100\n",
      "36/36 [==============================] - 0s 7ms/step - loss: 0.0045 - accuracy: 0.9985 - val_loss: 0.0168 - val_accuracy: 0.9947\n",
      "Epoch 55/100\n",
      "36/36 [==============================] - 0s 7ms/step - loss: 0.0039 - accuracy: 0.9983 - val_loss: 0.0166 - val_accuracy: 0.9947\n",
      "Epoch 56/100\n",
      "36/36 [==============================] - 0s 7ms/step - loss: 0.0019 - accuracy: 0.9999 - val_loss: 0.0166 - val_accuracy: 0.9947\n",
      "Epoch 57/100\n",
      "36/36 [==============================] - 0s 7ms/step - loss: 0.0033 - accuracy: 0.9990 - val_loss: 0.0174 - val_accuracy: 0.9947\n",
      "Epoch 58/100\n",
      "36/36 [==============================] - 0s 7ms/step - loss: 0.0038 - accuracy: 0.9990 - val_loss: 0.0207 - val_accuracy: 0.9947\n"
     ]
    },
    {
     "name": "stdout",
     "output_type": "stream",
     "text": [
      "Epoch 59/100\n",
      "36/36 [==============================] - 0s 7ms/step - loss: 0.0027 - accuracy: 0.9997 - val_loss: 0.0285 - val_accuracy: 0.9933\n",
      "Epoch 60/100\n",
      "36/36 [==============================] - 0s 7ms/step - loss: 0.0054 - accuracy: 0.9990 - val_loss: 0.0362 - val_accuracy: 0.9893\n",
      "Epoch 61/100\n",
      "36/36 [==============================] - 0s 7ms/step - loss: 0.0118 - accuracy: 0.9945 - val_loss: 0.0223 - val_accuracy: 0.9960\n",
      "Epoch 62/100\n",
      "36/36 [==============================] - 0s 7ms/step - loss: 0.0039 - accuracy: 0.9989 - val_loss: 0.0367 - val_accuracy: 0.9893\n",
      "Epoch 63/100\n",
      "36/36 [==============================] - 0s 7ms/step - loss: 0.0312 - accuracy: 0.9883 - val_loss: 0.1090 - val_accuracy: 0.9587\n",
      "Epoch 64/100\n",
      "36/36 [==============================] - 0s 7ms/step - loss: 0.0342 - accuracy: 0.9933 - val_loss: 0.0413 - val_accuracy: 0.9853\n",
      "Epoch 65/100\n",
      "36/36 [==============================] - 0s 7ms/step - loss: 0.0079 - accuracy: 0.9990 - val_loss: 0.0322 - val_accuracy: 0.9920\n",
      "Epoch 66/100\n",
      "36/36 [==============================] - 0s 7ms/step - loss: 0.0079 - accuracy: 0.9986 - val_loss: 0.0254 - val_accuracy: 0.9933\n",
      "Epoch 67/100\n",
      "36/36 [==============================] - 0s 7ms/step - loss: 0.0060 - accuracy: 0.9983 - val_loss: 0.0205 - val_accuracy: 0.9947\n",
      "Epoch 68/100\n",
      "36/36 [==============================] - 0s 7ms/step - loss: 0.0041 - accuracy: 0.9993 - val_loss: 0.0217 - val_accuracy: 0.9920\n",
      "Epoch 69/100\n",
      "36/36 [==============================] - 0s 7ms/step - loss: 0.0046 - accuracy: 1.0000 - val_loss: 0.0209 - val_accuracy: 0.9920\n",
      "Epoch 70/100\n",
      "36/36 [==============================] - 0s 7ms/step - loss: 0.0045 - accuracy: 0.9987 - val_loss: 0.0194 - val_accuracy: 0.9947\n",
      "Epoch 71/100\n",
      "36/36 [==============================] - 0s 7ms/step - loss: 0.0019 - accuracy: 1.0000 - val_loss: 0.0186 - val_accuracy: 0.9933\n",
      "Epoch 72/100\n",
      "36/36 [==============================] - 0s 7ms/step - loss: 0.0062 - accuracy: 0.9978 - val_loss: 0.0549 - val_accuracy: 0.9867\n",
      "Epoch 73/100\n",
      "36/36 [==============================] - 0s 7ms/step - loss: 0.0082 - accuracy: 0.9980 - val_loss: 0.0225 - val_accuracy: 0.9920\n",
      "Epoch 74/100\n",
      "36/36 [==============================] - 0s 7ms/step - loss: 0.0052 - accuracy: 0.9994 - val_loss: 0.0403 - val_accuracy: 0.9893\n",
      "Epoch 75/100\n",
      "36/36 [==============================] - 0s 7ms/step - loss: 0.0230 - accuracy: 0.9903 - val_loss: 0.0228 - val_accuracy: 0.9933\n",
      "Epoch 76/100\n",
      "36/36 [==============================] - 0s 7ms/step - loss: 0.0089 - accuracy: 0.9972 - val_loss: 0.1132 - val_accuracy: 0.9680\n",
      "Epoch 77/100\n",
      "36/36 [==============================] - 0s 7ms/step - loss: 0.0449 - accuracy: 0.9864 - val_loss: 0.0408 - val_accuracy: 0.9933\n",
      "Epoch 78/100\n",
      "36/36 [==============================] - 0s 7ms/step - loss: 0.0112 - accuracy: 0.9952 - val_loss: 0.0230 - val_accuracy: 0.9947\n",
      "Epoch 79/100\n",
      "36/36 [==============================] - 0s 7ms/step - loss: 0.0209 - accuracy: 0.9964 - val_loss: 0.0408 - val_accuracy: 0.9893\n",
      "Epoch 80/100\n",
      "36/36 [==============================] - 0s 7ms/step - loss: 0.0083 - accuracy: 0.9942 - val_loss: 0.0155 - val_accuracy: 0.9947\n",
      "Epoch 81/100\n",
      "36/36 [==============================] - 0s 7ms/step - loss: 0.0016 - accuracy: 1.0000 - val_loss: 0.0167 - val_accuracy: 0.9947\n",
      "Epoch 82/100\n",
      "36/36 [==============================] - 0s 7ms/step - loss: 9.8712e-04 - accuracy: 0.9999 - val_loss: 0.0157 - val_accuracy: 0.9947\n",
      "Epoch 83/100\n",
      "36/36 [==============================] - 0s 7ms/step - loss: 0.0016 - accuracy: 1.0000 - val_loss: 0.0139 - val_accuracy: 0.9947\n",
      "Epoch 84/100\n",
      "36/36 [==============================] - 0s 7ms/step - loss: 0.0010 - accuracy: 1.0000 - val_loss: 0.0146 - val_accuracy: 0.9947\n",
      "Epoch 85/100\n",
      "36/36 [==============================] - 0s 7ms/step - loss: 7.0795e-04 - accuracy: 1.0000 - val_loss: 0.0132 - val_accuracy: 0.9947\n",
      "Epoch 86/100\n",
      "36/36 [==============================] - 0s 7ms/step - loss: 6.3577e-04 - accuracy: 1.0000 - val_loss: 0.0146 - val_accuracy: 0.9960\n",
      "Epoch 87/100\n",
      "36/36 [==============================] - 0s 7ms/step - loss: 0.0017 - accuracy: 0.9990 - val_loss: 0.0125 - val_accuracy: 0.9947\n",
      "Epoch 88/100\n",
      "36/36 [==============================] - 0s 7ms/step - loss: 0.0019 - accuracy: 1.0000 - val_loss: 0.0124 - val_accuracy: 0.9960\n",
      "Epoch 89/100\n",
      "36/36 [==============================] - 0s 7ms/step - loss: 5.4137e-04 - accuracy: 1.0000 - val_loss: 0.0129 - val_accuracy: 0.9973\n",
      "Epoch 90/100\n",
      "36/36 [==============================] - 0s 7ms/step - loss: 5.6912e-04 - accuracy: 1.0000 - val_loss: 0.0130 - val_accuracy: 0.9960\n",
      "Epoch 91/100\n",
      "36/36 [==============================] - 0s 7ms/step - loss: 7.3222e-04 - accuracy: 1.0000 - val_loss: 0.0126 - val_accuracy: 0.9973\n",
      "Epoch 92/100\n",
      "36/36 [==============================] - 0s 7ms/step - loss: 5.1917e-04 - accuracy: 1.0000 - val_loss: 0.0130 - val_accuracy: 0.9960\n",
      "Epoch 93/100\n",
      "36/36 [==============================] - 0s 7ms/step - loss: 9.7542e-04 - accuracy: 1.0000 - val_loss: 0.0128 - val_accuracy: 0.9960\n",
      "Epoch 94/100\n",
      "36/36 [==============================] - 0s 7ms/step - loss: 6.2750e-04 - accuracy: 1.0000 - val_loss: 0.0124 - val_accuracy: 0.9960\n",
      "Epoch 95/100\n",
      "36/36 [==============================] - 0s 7ms/step - loss: 4.8736e-04 - accuracy: 1.0000 - val_loss: 0.0119 - val_accuracy: 0.9960\n",
      "Epoch 96/100\n",
      "36/36 [==============================] - 0s 7ms/step - loss: 7.5702e-04 - accuracy: 1.0000 - val_loss: 0.0118 - val_accuracy: 0.9973\n",
      "Epoch 97/100\n",
      "36/36 [==============================] - 0s 7ms/step - loss: 6.2131e-04 - accuracy: 1.0000 - val_loss: 0.0122 - val_accuracy: 0.9960\n",
      "Epoch 98/100\n",
      "36/36 [==============================] - 0s 7ms/step - loss: 5.4225e-04 - accuracy: 1.0000 - val_loss: 0.0119 - val_accuracy: 0.9973\n",
      "Epoch 99/100\n",
      "36/36 [==============================] - 0s 7ms/step - loss: 0.0011 - accuracy: 0.9999 - val_loss: 0.0106 - val_accuracy: 0.9960\n",
      "Epoch 100/100\n",
      "36/36 [==============================] - 0s 7ms/step - loss: 4.7045e-04 - accuracy: 1.0000 - val_loss: 0.0119 - val_accuracy: 0.9973\n"
     ]
    },
    {
     "data": {
      "text/plain": [
       "<tensorflow.python.keras.callbacks.History at 0x20b4f15c588>"
      ]
     },
     "execution_count": 38,
     "metadata": {},
     "output_type": "execute_result"
    }
   ],
   "source": [
    "adam = Adam(lr=0.001)\n",
    "#chk = ModelCheckpoint('best_model_pkl', monitor='val_accuracy', save_best_only=True, mode='max', verbose=1)\n",
    "model2.compile(loss='categorical_crossentropy', optimizer=adam, metrics=['accuracy'])\n",
    "#model.fit(Xtrain, ytrain, epochs=n_epochs, batch_size=128, validation_data=(X_val,y_val))\n",
    "model2.fit(Xtrain, ytrain, epochs=n_epochs, batch_size=64, validation_data=(Xval,yval))"
   ]
  },
  {
   "cell_type": "markdown",
   "metadata": {},
   "source": [
    "### Some graphics of results"
   ]
  },
  {
   "cell_type": "code",
   "execution_count": 39,
   "metadata": {},
   "outputs": [
    {
     "data": {
      "image/png": "[encoded data removed]",
      "text/plain": [
       "<Figure size 432x288 with 1 Axes>"
      ]
     },
     "metadata": {
      "needs_background": "light"
     },
     "output_type": "display_data"
    }
   ],
   "source": [
    "plt.figure()\n",
    "plt.plot(np.arange(n_epochs),model2.history.history['loss'],  label='training_loss')\n",
    "plt.plot(np.arange(n_epochs),model2.history.history['val_loss'],  label='val_loss')\n",
    "plt.legend()\n",
    "plt.title('Loss')\n",
    "plt.show()"
   ]
  },
  {
   "cell_type": "code",
   "execution_count": 40,
   "metadata": {},
   "outputs": [
    {
     "data": {
      "image/png": "[encoded data removed]",
      "text/plain": [
       "<Figure size 432x288 with 1 Axes>"
      ]
     },
     "metadata": {
      "needs_background": "light"
     },
     "output_type": "display_data"
    }
   ],
   "source": [
    "plt.figure()\n",
    "plt.plot(np.arange(n_epochs),model2.history.history['accuracy'],  label='training_accuracy')\n",
    "plt.plot(np.arange(n_epochs),model2.history.history['val_accuracy'],  label='val_accuracy')\n",
    "plt.legend()\n",
    "plt.title('Accuracy')\n",
    "plt.show()"
   ]
  },
  {
   "cell_type": "markdown",
   "metadata": {},
   "source": [
    "### Traditional methods of ML (random forest, gb)"
   ]
  },
  {
   "cell_type": "markdown",
   "metadata": {},
   "source": [
    "##### Random forest"
   ]
  },
  {
   "cell_type": "code",
   "execution_count": 13,
   "metadata": {},
   "outputs": [],
   "source": [
    "from sklearn.ensemble import RandomForestClassifier"
   ]
  },
  {
   "cell_type": "code",
   "execution_count": 14,
   "metadata": {},
   "outputs": [],
   "source": [
    "from sklearn.metrics import accuracy_score"
   ]
  },
  {
   "cell_type": "code",
   "execution_count": 15,
   "metadata": {},
   "outputs": [
    {
     "ename": "NameError",
     "evalue": "name 'X_train' is not defined",
     "output_type": "error",
     "traceback": [
      "\u001b[1;31m---------------------------------------------------------------------------\u001b[0m",
      "\u001b[1;31mNameError\u001b[0m                                 Traceback (most recent call last)",
      "\u001b[1;32m<ipython-input-15-dd8e46fff995>\u001b[0m in \u001b[0;36m<module>\u001b[1;34m\u001b[0m\n\u001b[1;32m----> 1\u001b[1;33m \u001b[0mX_train\u001b[0m \u001b[1;33m=\u001b[0m \u001b[0mnp\u001b[0m\u001b[1;33m.\u001b[0m\u001b[0msqueeze\u001b[0m\u001b[1;33m(\u001b[0m\u001b[0mX_train\u001b[0m\u001b[1;33m)\u001b[0m\u001b[1;33m\u001b[0m\u001b[1;33m\u001b[0m\u001b[0m\n\u001b[0m\u001b[0;32m      2\u001b[0m \u001b[0mX_val\u001b[0m \u001b[1;33m=\u001b[0m \u001b[0mnp\u001b[0m\u001b[1;33m.\u001b[0m\u001b[0msqueeze\u001b[0m\u001b[1;33m(\u001b[0m\u001b[0mX_val\u001b[0m\u001b[1;33m)\u001b[0m\u001b[1;33m\u001b[0m\u001b[1;33m\u001b[0m\u001b[0m\n\u001b[0;32m      3\u001b[0m \u001b[0mX_train\u001b[0m\u001b[1;33m.\u001b[0m\u001b[0mshape\u001b[0m\u001b[1;33m,\u001b[0m \u001b[0mX_val\u001b[0m\u001b[1;33m.\u001b[0m\u001b[0mshape\u001b[0m\u001b[1;33m\u001b[0m\u001b[1;33m\u001b[0m\u001b[0m\n",
      "\u001b[1;31mNameError\u001b[0m: name 'X_train' is not defined"
     ]
    }
   ],
   "source": [
    "X_train = np.squeeze(X_train)\n",
    "X_val = np.squeeze(X_val)\n",
    "X_train.shape, X_val.shape"
   ]
  },
  {
   "cell_type": "code",
   "execution_count": 25,
   "metadata": {},
   "outputs": [
    {
     "name": "stdout",
     "output_type": "stream",
     "text": [
      "0.9727272727272728\n"
     ]
    }
   ],
   "source": [
    "rf = RandomForestClassifier(n_estimators=100, n_jobs = -1)\n",
    "rf.fit(X_train,y_train)\n",
    "y_pred = rf.predict(X_val)\n",
    "print(accuracy_score(y_pred, y_val))"
   ]
  },
  {
   "cell_type": "markdown",
   "metadata": {},
   "source": [
    "#### Part 2.1 multiclassification"
   ]
  },
  {
   "cell_type": "code",
   "execution_count": 27,
   "metadata": {},
   "outputs": [],
   "source": [
    "ydecode = tf.argmax(ytrain, axis=1).numpy()\n",
    "yvaldecode = tf.argmax(yval, axis=1).numpy()"
   ]
  },
  {
   "cell_type": "code",
   "execution_count": 28,
   "metadata": {},
   "outputs": [],
   "source": [
    "rf2 = RandomForestClassifier(n_estimators=150, n_jobs=-1)"
   ]
  },
  {
   "cell_type": "code",
   "execution_count": 29,
   "metadata": {},
   "outputs": [
    {
     "data": {
      "text/plain": [
       "((2250, 99), (750, 99))"
      ]
     },
     "execution_count": 29,
     "metadata": {},
     "output_type": "execute_result"
    }
   ],
   "source": [
    "Xtrain = np.squeeze(Xtrain)\n",
    "Xval = np.squeeze(Xval)\n",
    "Xtrain.shape, Xval.shape"
   ]
  },
  {
   "cell_type": "code",
   "execution_count": 34,
   "metadata": {},
   "outputs": [
    {
     "data": {
      "text/plain": [
       "RandomForestClassifier(bootstrap=True, class_weight=None, criterion='gini',\n",
       "                       max_depth=None, max_features='auto', max_leaf_nodes=None,\n",
       "                       min_impurity_decrease=0.0, min_impurity_split=None,\n",
       "                       min_samples_leaf=1, min_samples_split=2,\n",
       "                       min_weight_fraction_leaf=0.0, n_estimators=150,\n",
       "                       n_jobs=-1, oob_score=False, random_state=None, verbose=0,\n",
       "                       warm_start=False)"
      ]
     },
     "execution_count": 34,
     "metadata": {},
     "output_type": "execute_result"
    }
   ],
   "source": [
    "rf2.fit(Xtrain, ydecode)"
   ]
  },
  {
   "cell_type": "code",
   "execution_count": 35,
   "metadata": {},
   "outputs": [
    {
     "data": {
      "text/plain": [
       "(2250,)"
      ]
     },
     "execution_count": 35,
     "metadata": {},
     "output_type": "execute_result"
    }
   ],
   "source": [
    "ydecode.shape"
   ]
  },
  {
   "cell_type": "code",
   "execution_count": 41,
   "metadata": {},
   "outputs": [
    {
     "data": {
      "text/plain": [
       "RandomForestClassifier(bootstrap=True, class_weight=None, criterion='gini',\n",
       "                       max_depth=13, max_features='auto', max_leaf_nodes=None,\n",
       "                       min_impurity_decrease=0.0, min_impurity_split=None,\n",
       "                       min_samples_leaf=1, min_samples_split=2,\n",
       "                       min_weight_fraction_leaf=0.0, n_estimators=200,\n",
       "                       n_jobs=-1, oob_score=False, random_state=None, verbose=0,\n",
       "                       warm_start=False)"
      ]
     },
     "execution_count": 41,
     "metadata": {},
     "output_type": "execute_result"
    }
   ],
   "source": [
    "cv = KFold(n_splits=5, shuffle=True, random_state = 42)\n",
    "params_rf = {\n",
    "    'max_depth': range(5, 15, 2),\n",
    "    'n_estimators':[50, 100, 120, 140, 160, 180, 200, 300]\n",
    "}\n",
    "gs_rf = GridSearchCV(rf2, param_grid=params_rf, cv=cv, n_jobs=-1)\n",
    "gs_rf.fit(Xtrain, ydecode)\n",
    "gs_rf.best_estimator_"
   ]
  },
  {
   "cell_type": "code",
   "execution_count": 43,
   "metadata": {},
   "outputs": [],
   "source": [
    "ypred = gs_rf.best_estimator_.predict(Xval)"
   ]
  },
  {
   "cell_type": "code",
   "execution_count": 45,
   "metadata": {},
   "outputs": [
    {
     "data": {
      "text/plain": [
       "0.9133333333333333"
      ]
     },
     "execution_count": 45,
     "metadata": {},
     "output_type": "execute_result"
    }
   ],
   "source": [
    "accuracy_score(ypred, yvaldecode)"
   ]
  },
  {
   "cell_type": "markdown",
   "metadata": {},
   "source": [
    "##### Gradient boosting"
   ]
  },
  {
   "cell_type": "code",
   "execution_count": 46,
   "metadata": {},
   "outputs": [],
   "source": [
    "from xgboost import XGBClassifier"
   ]
  },
  {
   "cell_type": "code",
   "execution_count": 47,
   "metadata": {},
   "outputs": [
    {
     "ename": "NameError",
     "evalue": "name 'X_train' is not defined",
     "output_type": "error",
     "traceback": [
      "\u001b[1;31m---------------------------------------------------------------------------\u001b[0m",
      "\u001b[1;31mNameError\u001b[0m                                 Traceback (most recent call last)",
      "\u001b[1;32m<ipython-input-47-300a71fdb25f>\u001b[0m in \u001b[0;36m<module>\u001b[1;34m\u001b[0m\n\u001b[0;32m      1\u001b[0m \u001b[0mxgbclf\u001b[0m \u001b[1;33m=\u001b[0m \u001b[0mXGBClassifier\u001b[0m\u001b[1;33m(\u001b[0m\u001b[0mn_estimators\u001b[0m\u001b[1;33m=\u001b[0m\u001b[1;36m100\u001b[0m\u001b[1;33m,\u001b[0m \u001b[0mn_jobs\u001b[0m\u001b[1;33m=\u001b[0m\u001b[1;33m-\u001b[0m\u001b[1;36m1\u001b[0m\u001b[1;33m,\u001b[0m \u001b[0muse_label_encoder\u001b[0m\u001b[1;33m=\u001b[0m\u001b[1;32mFalse\u001b[0m\u001b[1;33m)\u001b[0m\u001b[1;33m\u001b[0m\u001b[1;33m\u001b[0m\u001b[0m\n\u001b[1;32m----> 2\u001b[1;33m \u001b[0mxgbclf\u001b[0m\u001b[1;33m.\u001b[0m\u001b[0mfit\u001b[0m\u001b[1;33m(\u001b[0m\u001b[0mX_train\u001b[0m\u001b[1;33m,\u001b[0m \u001b[0my_train\u001b[0m\u001b[1;33m)\u001b[0m\u001b[1;33m\u001b[0m\u001b[1;33m\u001b[0m\u001b[0m\n\u001b[0m\u001b[0;32m      3\u001b[0m \u001b[0my_pred\u001b[0m \u001b[1;33m=\u001b[0m \u001b[0mxgbclf\u001b[0m\u001b[1;33m.\u001b[0m\u001b[0mpredict\u001b[0m\u001b[1;33m(\u001b[0m\u001b[0mX_val\u001b[0m\u001b[1;33m)\u001b[0m\u001b[1;33m\u001b[0m\u001b[1;33m\u001b[0m\u001b[0m\n\u001b[0;32m      4\u001b[0m \u001b[0maccuracy_score\u001b[0m\u001b[1;33m(\u001b[0m\u001b[0my_pred\u001b[0m\u001b[1;33m,\u001b[0m \u001b[0my_val\u001b[0m\u001b[1;33m)\u001b[0m\u001b[1;33m\u001b[0m\u001b[1;33m\u001b[0m\u001b[0m\n",
      "\u001b[1;31mNameError\u001b[0m: name 'X_train' is not defined"
     ]
    }
   ],
   "source": [
    "xgbclf = XGBClassifier(n_estimators=100, n_jobs=-1, use_label_encoder=False)\n",
    "xgbclf.fit(X_train, y_train)\n",
    "y_pred = xgbclf.predict(X_val)\n",
    "accuracy_score(y_pred, y_val)"
   ]
  },
  {
   "cell_type": "code",
   "execution_count": 48,
   "metadata": {},
   "outputs": [],
   "source": [
    "# 0.94"
   ]
  },
  {
   "cell_type": "code",
   "execution_count": 49,
   "metadata": {},
   "outputs": [
    {
     "name": "stdout",
     "output_type": "stream",
     "text": [
      "[14:55:22] WARNING: C:/Users/Administrator/workspace/xgboost-win64_release_1.3.0/src/learner.cc:1061: Starting in XGBoost 1.3.0, the default evaluation metric used with the objective 'multi:softprob' was changed from 'merror' to 'mlogloss'. Explicitly set eval_metric if you'd like to restore the old behavior.\n"
     ]
    },
    {
     "data": {
      "text/plain": [
       "XGBClassifier(base_score=0.5, booster='gbtree', colsample_bylevel=1,\n",
       "              colsample_bynode=1, colsample_bytree=1, gamma=0, gpu_id=-1,\n",
       "              importance_type='gain', interaction_constraints='',\n",
       "              learning_rate=0.300000012, max_delta_step=0, max_depth=6,\n",
       "              min_child_weight=1, missing=nan, monotone_constraints='()',\n",
       "              n_estimators=100, n_jobs=-1, num_parallel_tree=1,\n",
       "              objective='multi:softprob', random_state=0, reg_alpha=0,\n",
       "              reg_lambda=1, scale_pos_weight=None, subsample=1,\n",
       "              tree_method='exact', use_label_encoder=False,\n",
       "              validate_parameters=1, verbosity=None)"
      ]
     },
     "execution_count": 49,
     "metadata": {},
     "output_type": "execute_result"
    }
   ],
   "source": [
    "xgbclf2 = XGBClassifier(n_estimators=100, n_jobs=-1, use_label_encoder=False)\n",
    "xgbclf2.fit(Xtrain, ydecode)"
   ]
  },
  {
   "cell_type": "code",
   "execution_count": 50,
   "metadata": {},
   "outputs": [],
   "source": [
    "ypred = xgbclf2.predict(Xval)"
   ]
  },
  {
   "cell_type": "code",
   "execution_count": 51,
   "metadata": {},
   "outputs": [
    {
     "data": {
      "text/plain": [
       "0.92"
      ]
     },
     "execution_count": 51,
     "metadata": {},
     "output_type": "execute_result"
    }
   ],
   "source": [
    "count = 0\n",
    "for i in range(ypred.shape[0]):\n",
    "    if ypred[i] == yvaldecode[i]:\n",
    "        count += 1\n",
    "count / ypred.shape[0]"
   ]
  },
  {
   "cell_type": "code",
   "execution_count": 53,
   "metadata": {},
   "outputs": [
    {
     "name": "stdout",
     "output_type": "stream",
     "text": [
      "[14:59:26] WARNING: C:/Users/Administrator/workspace/xgboost-win64_release_1.3.0/src/learner.cc:1061: Starting in XGBoost 1.3.0, the default evaluation metric used with the objective 'multi:softprob' was changed from 'merror' to 'mlogloss'. Explicitly set eval_metric if you'd like to restore the old behavior.\n"
     ]
    },
    {
     "data": {
      "text/plain": [
       "XGBClassifier(base_score=0.5, booster='gbtree', colsample_bylevel=1,\n",
       "              colsample_bynode=1, colsample_bytree=1, gamma=0, gpu_id=-1,\n",
       "              importance_type='gain', interaction_constraints='',\n",
       "              learning_rate=0.300000012, max_delta_step=0, max_depth=5,\n",
       "              min_child_weight=1, missing=nan, monotone_constraints='()',\n",
       "              n_estimators=110, n_jobs=-1, num_parallel_tree=1,\n",
       "              objective='multi:softprob', random_state=0, reg_alpha=0,\n",
       "              reg_lambda=1, scale_pos_weight=None, subsample=1,\n",
       "              tree_method='exact', use_label_encoder=False,\n",
       "              validate_parameters=1, verbosity=None)"
      ]
     },
     "execution_count": 53,
     "metadata": {},
     "output_type": "execute_result"
    }
   ],
   "source": [
    "cv = KFold(n_splits=5, shuffle=True, random_state=42)\n",
    "params_xg = {\n",
    "    'n_estimators':range(50, 200, 20),\n",
    "    'max_depth':range(5,15,2),\n",
    "}\n",
    "gs_xg = GridSearchCV(xgbclf2, param_grid=params_xg, cv=cv, n_jobs=-1)\n",
    "gs_xg.fit(Xtrain, ydecode)\n",
    "gs_xg.best_estimator_"
   ]
  },
  {
   "cell_type": "code",
   "execution_count": 54,
   "metadata": {},
   "outputs": [
    {
     "data": {
      "text/plain": [
       "0.9266666666666666"
      ]
     },
     "execution_count": 54,
     "metadata": {},
     "output_type": "execute_result"
    }
   ],
   "source": [
    "ypred = gs_xg.best_estimator_.predict(Xval)\n",
    "accuracy_score(ypred, yvaldecode)"
   ]
  },
  {
   "cell_type": "code",
   "execution_count": null,
   "metadata": {},
   "outputs": [],
   "source": []
  }
 ],
 "metadata": {
  "kernelspec": {
   "display_name": "Python 3",
   "language": "python",
   "name": "python3"
  },
  "language_info": {
   "codemirror_mode": {
    "name": "ipython",
    "version": 3
   },
   "file_extension": ".py",
   "mimetype": "text/x-python",
   "name": "python",
   "nbconvert_exporter": "python",
   "pygments_lexer": "ipython3",
   "version": "3.7.4"
  }
 },
 "nbformat": 4,
 "nbformat_minor": 2
}
